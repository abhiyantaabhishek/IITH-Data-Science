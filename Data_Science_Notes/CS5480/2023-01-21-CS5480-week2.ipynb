{
 "cells": [
  {
   "cell_type": "raw",
   "metadata": {},
   "source": [
    "---\n",
    "author: Abhishek Kumar Dubey\n",
    "badges: false\n",
    "categories:\n",
    "- Deep Learning\n",
    "date: '2023-01-21'\n",
    "description: History, Perceptrons, Neural Networks and Backpropagation\n",
    "image: CS5480_images/chrome_mmOWWTaZry.png\n",
    "title: Deep Learning 2\n",
    "toc: true\n",
    "\n",
    "---\n",
    "\n"
   ]
  },
  {
   "attachments": {},
   "cell_type": "markdown",
   "metadata": {},
   "source": [
    "## Gradient Descent using Backpropagation"
   ]
  },
  {
   "attachments": {},
   "cell_type": "markdown",
   "metadata": {},
   "source": [
    "1. set  $\\Delta W^{(l)}:=0,\\Delta b^{(l)}:=0$ (matrix/vector of zeros) for all $l$\n",
    "2. For $i = 1$ to $m$\n",
    "    1. Use backpropagation to compute $\\nabla_{\\theta^{(l)}}J(\\theta;X,y)$\n",
    "    2. Set $\\Delta\\theta^{(l)}:=\\Delta\\theta^{(l)}+\\nabla_{\\theta^{(l)}}J(\\theta;X,y)$\n",
    "3. Update the parameters:\n",
    "    $$\n",
    "    \\begin{align*}\n",
    "    W^{(l)}&=W^{(l)}-\\alpha\\left[\\left(\\frac{1}{m}\\Delta W^{(l)}\\right)+\\lambda W^{(l)}\\right]\\\\\n",
    "    b^{(l)}&=b^{(l)}-\\alpha\\left[\\frac{1}{m}\\Delta b^{(l)}\\right]\n",
    "    \\end{align*}\n",
    "   $$\n",
    "   \n",
    "4. Repeat for all data points until convergence."
   ]
  },
  {
   "attachments": {},
   "cell_type": "markdown",
   "metadata": {},
   "source": [
    "\n",
    "- Iteration: When weight is updated then it is called one iteration.\n",
    "- Epoch : When training is done at least once on the whole data set  then it is called one epoch.\n",
    "- Convex objective function has One global minima but Non convex objective function has many local minima.\n",
    "- \n",
    "  ::: {.callout-note}\n",
    "  The neural network with more than one layer has cost function which  is almost always non convex, even if there is no activation function on any layer, it may sound non intuitive at first but it will become clear as we explore on this topic.\n",
    "  :::\n",
    "\n"
   ]
  },
  {
   "attachments": {},
   "cell_type": "markdown",
   "metadata": {},
   "source": [
    "## Local Minima"
   ]
  },
  {
   "attachments": {},
   "cell_type": "markdown",
   "metadata": {},
   "source": [
    "- The non-identifiability problem results in multiple equivalent local\n",
    "minima → Not problematic though, since cost function value is the\n",
    "same\n",
    "- If there are  local minima with  significant different cost value then that could be a problem.\n",
    "- It's not required to find the true global minimum, recent work shows that even finding the parameter space which has low but not global  minimum cost is enough.\n",
    "- \n",
    "  ::: {.callout-note}\n",
    "  Plot the norm of the gradient over time. If the norm is very small, it is likely to be a local minimum (or a critical point).\n",
    "  :::\n",
    "\n"
   ]
  },
  {
   "attachments": {},
   "cell_type": "markdown",
   "metadata": {},
   "source": [
    "## Saddle Points and Plateaus"
   ]
  },
  {
   "attachments": {},
   "cell_type": "markdown",
   "metadata": {},
   "source": [
    "- If there is local minima across one cross section of cost function and local maxima across another  cross section of the cost function then it is called a saddle point.<br>\n",
    "  ![](CS5480_images//Acrobat_2OJYOHomOb.png)<br>\n",
    "- In higher dimension space there are more saddle points than local minima.\n",
    "- If there is a steep decline in the cost then it is called Cliff area. Such  types of clips are very much possible in RNN because in such networks there are a lot of multiplication (over time) and when small terms multiplies many times then it becomes even smaller which causes cliffs.<br>\n",
    "![](CS5480_images//Acrobat_5doamnxGE8.png)<br>"
   ]
  },
  {
   "attachments": {},
   "cell_type": "markdown",
   "metadata": {},
   "source": [
    "## Vanishing/Exploding Gradient"
   ]
  },
  {
   "attachments": {},
   "cell_type": "markdown",
   "metadata": {},
   "source": [
    "- While doing gradient descent if the smaller number multiplies many times it becomes even smaller and it causes vanishing gradient problem in very deep neural network.\n",
    "- If the activation function has more steep slope or it has narrow range then it can cause vanishing gradient problem, One such example is sigmoid activation function.\n",
    "- In the same way there may happen exploding gradient issue if the number is greater than one while doing gradient descent."
   ]
  },
  {
   "attachments": {},
   "cell_type": "markdown",
   "metadata": {},
   "source": [
    "## Challenges"
   ]
  },
  {
   "attachments": {},
   "cell_type": "markdown",
   "metadata": {},
   "source": [
    "- Cost functions are often high dimensional non quadratic non convex,There can be many minima shadow points and also many flat regions,\n",
    "- There is no guarantee that a network will converge to an optimal point or it will converge at all.\n",
    "- Most of the time problems are ill conditioned,\n",
    "- The gradient can be inexact.\n",
    "- Poor correspondence between local and global structure.\n",
    "- We need to hyper tune learning rate and many other parameters."
   ]
  },
  {
   "attachments": {},
   "cell_type": "markdown",
   "metadata": {},
   "source": [
    "## How to address"
   ]
  },
  {
   "attachments": {},
   "cell_type": "markdown",
   "metadata": {},
   "source": [
    "There are many techniques which can help address this issue up to some extent.\n",
    "\n",
    "- Algorithmic approach.\n",
    "    - Batch gradient descent, stochastic gradient descent, mini batch gradient descent.\n",
    "    - Momentum based methods Nestrov momentum.\n",
    "    - Adagrad,  Adadelta, RMSprobe, Adam.\n",
    "    - Other advanced optimization methods.\n",
    "- Practical tricks.\n",
    "    - Regularization method such as dropout.\n",
    "    - Data manipulation methods.\n",
    "    - Parameter in slicing method."
   ]
  },
  {
   "attachments": {},
   "cell_type": "markdown",
   "metadata": {},
   "source": [
    "- Batch gradient descent: In this method we compute the gradient for entire training set and then we update the parameters or weights.\n",
    "- Stochastic gradient descent: In this method we first randomly shuffle the training set and then we compute the gradient for each and every training example and  update the parameter or weights.\n",
    "- Mini batch Stochastic gradient descent: In this method we first draw a mini batch from randomly shuffled  data set. And we compute the gradient for this mini batch and update the parameter or weights."
   ]
  },
  {
   "attachments": {},
   "cell_type": "markdown",
   "metadata": {},
   "source": [
    "- Advantage of Stochastic gradient descent:\n",
    "    - It is faster than batch gradient descent because there is redundancy in the batch.\n",
    "    - Often results in more better than generalised solution because of the noisy  update of the weight.\n",
    "    - This method can be useful where we need to track the  system overtime. We can update the weight stochastically.\n",
    "- Issue with Stochastic gradient descent:\n",
    "    - Sometimes noise in stochastic gradient descent may lead to no convergence  at all.\n",
    "    - Equivalent to use of “mini-batches” in SGD (Start with a small batch size and increase size as training proceeds.\n",
    "    - Can be controlled using learning rate."
   ]
  },
  {
   "attachments": {},
   "cell_type": "markdown",
   "metadata": {},
   "source": [
    "- Advantages of Batch GD\n",
    "    - Conditions of convergence are well understood.\n",
    "    - Many acceleration techniques (e.g. conjugate gradient) only operate in batch learning.\n",
    "    - Theoretical analysis of the weight dynamics and convergence rates are simpler.\n",
    "    - \n",
    "      ::: {.callout-tip}\n",
    "      Mini-batch SGD is the most commonly used method, with a mini-batch size of 20 or so (can be higher depending on dataset size).\n",
    "      :::"
   ]
  },
  {
   "attachments": {},
   "cell_type": "markdown",
   "metadata": {},
   "source": [
    "## Momentum"
   ]
  },
  {
   "attachments": {},
   "cell_type": "markdown",
   "metadata": {},
   "source": [
    "Weight update is given by <br>\n",
    "$$\\Delta\\theta_{t+1}=\\alpha\\nabla_{\\theta}J(\\theta_{t};x^{(i)},y)^{(i)}+ \\overbrace{\\boxed{\\gamma \\Delta \\theta _t}}^{\\text{Momentum term}}   $$\n",
    "\n",
    "- Can increase speed when the cost surface is highly non-spherical.\n",
    "- Damps step sizes along directions of high curvature, yielding a larger effective learning rate along the directions of low curvature.\n",
    "- \n",
    "  ::: {.callout-note}\n",
    "  Here the idea is that, if we are going in one direction, we build a momentum to that direction, so if there is a sudden change in the direction, we do not suddenly change the direction but go for a average  as per the above equation. \n",
    "  :::\n",
    "- Larger the $\\gamma$, more the previous gradients affect the current step.\n",
    "- Generally $\\gamma$ is set to $0.5$ until initial learning stabilizes and then increased to $0.9$ or higher."
   ]
  },
  {
   "attachments": {},
   "cell_type": "markdown",
   "metadata": {},
   "source": [
    "## SGD with Momentum"
   ]
  },
  {
   "attachments": {},
   "cell_type": "markdown",
   "metadata": {},
   "source": [
    "Assume: <br>\n",
    "\n",
    "> Learning rate $\\alpha$ <br>\n",
    "> momentum parameter $\\gamma$ <br>\n",
    "> minibatch size $m$ <br>\n",
    "> Initial weights $\\theta_t$\n",
    "\n",
    "::: {.alert .alert-dismissible .alert-success}\n",
    "1. _while_ stopping criterion not met _do_\n",
    "2. Sample a minibatch of $m$ examples from the training set.\n",
    "3. Compute gradient estimate ${\\nabla}_{\\theta}{\\sum}_{i=1}^{m}J({\\theta}_{t};X^{(i)},y^{(i)})$\n",
    "4. Compute update $\\Delta\\theta_{t+1}=\\alpha\\nabla_{\\theta}J+\\gamma\\Delta\\theta_{t}$\n",
    "5. Apply update $\\theta_{t+1}=\\theta_{t}-\\Delta\\theta_{t+1}$\n",
    "6. _End while_\n",
    ":::\n",
    "\n",
    "Alternate view of momentum update \n",
    "\n",
    "$$\\overbrace{\\mathrm{v}_{t+1}}^{\\text{Velocity }} =\\gamma \\times \\overbrace{\\mathrm{v}_{t}}^{\\text{past velocity}} +\\alpha\\nabla_{\\theta}J(\\theta_{t};X^{(i)},y^{(i)})$$\n"
   ]
  },
  {
   "attachments": {},
   "cell_type": "markdown",
   "metadata": {},
   "source": [
    "## Nesterov Accelerated Momentum"
   ]
  },
  {
   "attachments": {},
   "cell_type": "markdown",
   "metadata": {},
   "source": [
    "- In this method weight update is given as below.\n",
    "  $$\n",
    "  \\begin{align*}\n",
    "    \\mathrm{v}_{t+1}&=\\gamma\\mathrm{v}_{t}+\\alpha\\nabla_{\\theta}J(\\boxed{\\theta_{t}-\\gamma\\mathrm{v}_{t}} ;X^{(i)},y^{(i)})\\\\\n",
    "    \\theta_{t+1}&=\\theta_{t}-\\mathrm{v}_{t+1}\n",
    "  \\end{align*}\n",
    "  $$\n",
    "\n",
    "\n",
    "  ::: {.btn .btn-secondary .disabled }\n",
    "  <p align=\"justify\">\n",
    "\n",
    "  Here intuition  behind the term $\\boxed{\\theta_{t}-\\gamma\\mathrm{v}_{t}}$ is that, If you know the stock market price for tomorrow, we can do much better on stocks. In the same way we take a step forward and find the cost and then compute derivative, so that we can do better.\n",
    "  </p>\n",
    "  :::\n",
    "\n",
    "- In general, this method performs better.<br><br>\n",
    "  ![](CS5480_images//Acrobat_hqsl9yl8Vn.png) <br>\n",
    "\n",
    "\n"
   ]
  },
  {
   "attachments": {},
   "cell_type": "markdown",
   "metadata": {},
   "source": [
    "## SGD with Nesterov Momentum"
   ]
  },
  {
   "attachments": {},
   "cell_type": "markdown",
   "metadata": {},
   "source": [
    "> Learning rate $\\alpha$ <br>\n",
    "> momentum parameter $\\gamma$ <br>\n",
    "> minibatch size $m$ <br>\n",
    "> Initial weights $\\theta_t$\n",
    "> Initial velocity $v_t$\n",
    "\n",
    "::: {.alert .alert-dismissible .alert-success}\n",
    "1. _while_ stopping criterion not met _do_\n",
    "2. Sample a minibatch of $m$ examples from the training set.\n",
    "3. Apply interim update $\\tilde{\\theta}_{t}=\\theta_{t}-\\gamma\\bf{v}_{t}$\n",
    "4. Compute gradient estimate ${\\nabla}_{\\theta}{\\sum}_{i=1}^{m}J(\\tilde{\\theta}_{t};X^{(i)},y^{(i)})$\n",
    "5. Compute update ${\\bf v_{t+1}}=\\gamma{\\bf v}_{t}+\\alpha\\nabla_{\\theta}\\Sigma_{i=1}^{m}J(\\tilde{\\theta}_{t};x^{(i)},y^{(i)})$\n",
    "6. Apply update $\\theta_{t+1}=\\theta_{t}-\\bf v_{t+1}$\n",
    "7. _End while_\n",
    ":::\n",
    "\n",
    "::: {.text-danger}\n",
    "Momentum parameter ($\\gamma$): Weightage given to earlier steps taken in the process of gradient descent.\n",
    ":::\n",
    "\n"
   ]
  },
  {
   "attachments": {},
   "cell_type": "markdown",
   "metadata": {},
   "source": [
    "## Adaptive Learning Rate Methods: Adagrad"
   ]
  },
  {
   "attachments": {},
   "cell_type": "markdown",
   "metadata": {},
   "source": [
    "> Global Learning rate $\\alpha$ <br>\n",
    "> minibatch size $m$ <br>\n",
    "> Initial weights $\\theta_t$<br>\n",
    "> Small constant $\\delta$ near to $10^{-7}$ for numerical stability\n",
    "\n",
    "::: {.alert .alert-dismissible .alert-success}\n",
    "1. Initialize gradient accumulation variable $\\mathbf{r=0}$\n",
    "2. _while_ stopping criterion not met _do_\n",
    "3. Sample a minibatch of $m$ examples from the training set.\n",
    "4. Compute gradient estimate ${\\nabla}_{\\theta}{\\sum}_{i=1}^{m}J({\\theta}_{t};X^{(i)},y^{(i)})$\n",
    "\n",
    "::: {.text-danger}\n",
    "\n",
    "5. Compute squared gradient ${\\bf r}={\\bf r}+(\\nabla_{\\theta}J\\;\\odot\\;\\nabla_{\\theta}J)$\n",
    "6. Compute update $\\displaystyle \\Delta\\theta_{t+1}={\\frac{\\alpha}{\\delta+\\sqrt{\\bf r}}}\\ \\odot \\ \\nabla_\\theta J$ (division and square root computed elementwise)\n",
    "\n",
    ":::\n",
    "\n",
    "7. Apply update $\\theta_{t+1}=\\theta_{t}-\\Delta\\theta_{t+1}$\n",
    "8. _End while_\n",
    "\n",
    ":::\n",
    "\n",
    "- Intuition \n",
    "    - Calculates a different learning rate for each feature.\n",
    "    - Sparse features have higher learning rate.\n"
   ]
  },
  {
   "attachments": {},
   "cell_type": "markdown",
   "metadata": {},
   "source": [
    "## RMSProp"
   ]
  },
  {
   "attachments": {},
   "cell_type": "markdown",
   "metadata": {},
   "source": [
    "> Global Learning rate $\\alpha$ <br>\n",
    "> Decay rate $\\rho$ <br>\n",
    "> minibatch size $m$ <br>\n",
    "> Initial weights $\\theta_t$<br>\n",
    "> Small constant $\\delta$ near to $10^{-6}$ for numerical stability\n",
    "\n",
    "::: {.alert .alert-dismissible .alert-success}\n",
    "1. Initialize gradient accumulation variable $\\mathbf{r=0}$\n",
    "2. _while_ stopping criterion not met _do_\n",
    "3. Sample a minibatch of $m$ examples from the training set.\n",
    "4. Compute gradient estimate ${\\nabla}_{\\theta}{\\sum}_{i=1}^{m}J({\\theta}_{t};X^{(i)},y^{(i)})$\n",
    "\n",
    "::: {.text-danger}\n",
    "\n",
    "5. Accumulate squared gradient ${\\bf r}=\\rho{\\bf r}+(1-\\rho)(\\nabla_{\\theta}J\\;\\odot\\;\\nabla_{\\theta}J)$\n",
    "6. Compute update $\\displaystyle \\Delta\\theta_{t+1}={\\frac{\\alpha}{\\delta+\\sqrt{\\bf r}}}\\ \\odot \\ \\nabla_\\theta J$ (division and square root computed elementwise)\n",
    "\n",
    ":::\n",
    "\n",
    "7. Apply update $\\theta_{t+1}=\\theta_{t}-\\Delta\\theta_{t+1}$\n",
    "8. _End while_\n",
    "\n",
    ":::\n",
    "\n",
    "- Intuition \n",
    "    - Calculates a different learning rate for each feature.\n",
    "    - Sparse features have higher learning rate.\n",
    "    - Now we can control the accumulation using $\\rho$.\n",
    "\n"
   ]
  },
  {
   "attachments": {},
   "cell_type": "markdown",
   "metadata": {},
   "source": [
    "## RMSProp with Nesterov Momentum"
   ]
  },
  {
   "attachments": {},
   "cell_type": "markdown",
   "metadata": {},
   "source": [
    "> Global Learning rate $\\alpha$ <br>\n",
    "> Decay rate $\\rho$ <br>\n",
    "> Momentum co-efficient $\\gamma$<br>\n",
    ">Inital velocity $\\bf v$<br>\n",
    "> minibatch size $m$ <br>\n",
    "> Initial weights $\\theta_t$<br>\n",
    "> Small constant $\\delta$ near to $10^{-6}$ for numerical stability\n",
    "\n",
    "::: {.alert .alert-dismissible .alert-success}\n",
    "1. Initialize gradient accumulation variable $\\mathbf{r=0}$\n",
    "2. _while_ stopping criterion not met _do_\n",
    "3. Sample a minibatch of $m$ examples from the training set.\n",
    "\n",
    "::: {.text-warning}\n",
    "\n",
    "4. Apply interim update $\\tilde{\\theta}_{t}=\\theta_{t}-\\gamma\\bf{v}_{t}$\n",
    "5. Compute gradient estimate ${\\nabla}_{\\theta}{\\sum}_{i=1}^{m}J(\\tilde{\\theta}_{t};X^{(i)},y^{(i)})$\n",
    "\n",
    ":::\n",
    "\n",
    "::: {.text-danger}\n",
    "\n",
    "6. Accumulate squared gradient ${\\bf r}=\\rho{\\bf r}+(1-\\rho)(\\nabla_{\\theta}J\\;\\odot\\;\\nabla_{\\theta}J)$\n",
    "7. Compute update $\\displaystyle \\Delta\\theta_{t+1}={\\frac{\\alpha}{\\delta+\\sqrt{\\bf r}}}\\ \\odot \\ \\nabla_\\theta J$ (division and square root computed elementwise)\n",
    "\n",
    ":::\n",
    "\n",
    "8. Apply update $\\theta_{t+1}=\\theta_{t}-\\Delta\\theta_{t+1}$\n",
    "9. _End while_\n",
    "\n",
    ":::"
   ]
  },
  {
   "attachments": {},
   "cell_type": "markdown",
   "metadata": {},
   "source": [
    "## Adam"
   ]
  },
  {
   "attachments": {},
   "cell_type": "markdown",
   "metadata": {},
   "source": [
    "> Global Learning rate $\\alpha$ <br>\n",
    "> Decay rates for moment estimate $\\rho_1$ and $\\rho_2$ <br>\n",
    "> Momentum co-efficient $\\gamma$<br>\n",
    "> minibatch size $m$ <br>\n",
    "> Initial weights $\\theta_t$<br>\n",
    "> Small constant $\\delta$ near to $10^{-8}$ for numerical stability\n",
    "\n",
    "::: {.alert .alert-dismissible .alert-success}\n",
    "1. Initialize first and second moment variables  $\\mathbf{r=0}$ and $\\mathbf{s=0}$\n",
    "2. _while_ stopping criterion not met _do_\n",
    "3. Sample a minibatch of $m$ examples from the training set.\n",
    "\n",
    "::: {.text-danger}\n",
    "\n",
    "4. Compute gradient estimate ${\\nabla}_{\\theta}{\\sum}_{i=1}^{m}J({\\theta}_{t};X^{(i)},y^{(i)})$\n",
    "5. Update biased first moment estimate ${\\bf s}=\\rho_1{\\bf s}+(1-\\rho_1)\\nabla_{\\theta}J$\n",
    "6. Update biased second moment estimate ${\\bf r}=\\rho_2{\\bf r}+(1-\\rho_2)(\\nabla_{\\theta}J\\;\\odot\\;\\nabla_{\\theta}J)$\n",
    "7. Correct bias in first moment $\\displaystyle \\tilde{\\bf s}=\\frac{\\bf s}{1-\\rho_1^t}$\n",
    "8. Now Correct bias in second  moment $\\displaystyle \\tilde{\\bf r}=\\frac{\\bf r}{1-\\rho_2^t}$\n",
    "9. Compute update $\\displaystyle \\Delta\\theta_{t+1}={\\alpha\\frac{\\tilde{\\bf s}}{\\delta+\\sqrt{\\tilde{\\bf r}}}}$ (division and square root computed elementwise)\n",
    "\n",
    ":::\n",
    "\n",
    "10. Apply update $\\theta_{t+1}=\\theta_{t}-\\Delta\\theta_{t+1}$\n",
    "11. _End while_\n",
    "\n",
    ":::\n",
    "\n",
    "- Intuition \n",
    "    - Similar to RMSProp with momentum\n",
    "    - Uses the idea of momentum, as well as having a different learning rate for each dimension (which is automatically adjusted, as in Adagrad, Adadelta or RMS)"
   ]
  },
  {
   "attachments": {},
   "cell_type": "markdown",
   "metadata": {},
   "source": [
    "## Interesting Facts"
   ]
  },
  {
   "attachments": {},
   "cell_type": "markdown",
   "metadata": {},
   "source": [
    "::: {.card  .bg-light .mb-3 }\n",
    "::: {.card-header}\n",
    "{{< fa bolt >}}\n",
    ":::\n",
    "::: {.card-body}\n",
    "::: {.card-title}\n",
    "<h4>Interesting Facts</h4>\n",
    ":::\n",
    "::: {.card-text}\n",
    "\n",
    "- If input data is sparse, adaptive learning-rate methods may be best.No need to tune learning rate\n",
    "- Learning rates diminish fast in Adagrad, RMSProp addresses this\n",
    "issue.\n",
    "- Adam adds bias-correction and momentum to RMSprop.\n",
    "- RMSprop, Adadelta, and Adam are similar algorithms, bias-correction helps Adam slightly outperform RMSprop towards the end of optimization as gradients become sparser\n",
    "- Adam might be the best overall choice (May not be always true!)\n",
    "- Vanilla SGD depends on a robust initialization and annealing schedule, and may get stuck in saddle points rather than local minima.\n",
    "- Many recent papers use vanilla SGD without momentum, but with a\n",
    "simple learning rate annealing schedule\n",
    "- Some standard choices for training deep networks: SGD + Nesterov\n",
    "momentum, SGD with Adagrad/RMSProp/Adam.\n",
    "- ReLUs, Leaky ReLUs and MaxOut are the best bets for activation\n",
    "functions\n",
    "\n",
    ":::\n",
    ":::\n",
    ":::\n",
    "\n"
   ]
  },
  {
   "attachments": {},
   "cell_type": "markdown",
   "metadata": {},
   "source": [
    "## Activation Functions "
   ]
  },
  {
   "attachments": {},
   "cell_type": "markdown",
   "metadata": {},
   "source": [
    "- Sigmoid  \n",
    "    - This function takes any real value as input and outputs values in the range of 0 to 1. \n",
    "    - Formulae :\n",
    "      $$f(x)=\\frac{1}{1+e^{-x}} $$\n",
    "    - It is commonly used for models where we have to predict the probability as an output. Since probability of anything exists only between the range of 0 and 1, sigmoid is the right choice because of its range.\n",
    "- Tanh Function\n",
    "    - It's output range is  -1 to 1.\n",
    "    - Formulae :\n",
    "      $$f(x)=\\frac{e^{x}-e^{-x}}{e^{x}+e^{-x}} $$    \n",
    "    - The output of the tanh activation function is Zero centered; hence we can easily map the output values as strongly negative, neutral, or strongly positive.\n",
    "    - Usually used in hidden layers of a neural network as its values lie between -1 to 1; therefore, the mean for the hidden layer comes out to be 0 or very close to it. It helps in centering the data and makes learning for the next layer much easier.\n",
    "    - \n",
    "      ::: {.callout-note}\n",
    "      Although both sigmoid and tanh face vanishing gradient issue, tanh is zero centered, and the gradients are not restricted to move in a certain direction. Therefore, in practice, tanh nonlinearity is always preferred to sigmoid nonlinearity.\n",
    "      :::\n",
    "- ReLU \n",
    "    - The neurons will only be deactivated if the output of the linear transformation is less than 0.\n",
    "    - Formulae :\n",
    "      $$ f(x)=\\max(0,x)$$\n",
    "    - Since only a certain number of neurons are activated, the ReLU function is far more computationally efficient when compared to the sigmoid and tanh functions.\n",
    "    - ReLU accelerates the convergence of gradient descent towards the global minimum of the loss function due to its linear, non-saturating property.\n",
    "    - Found to accelerate convergence of SGD compared to sigmoid/tanh functions (a factor of 6) in AlexNet\n",
    "    - It has the The Dying ReLU problem\n",
    "        - The negative side of the graph makes the gradient value zero. Due to this reason, during the backpropagation process, the weights and biases for some neurons are not updated. This can create dead neurons which never get activated.\n",
    "        - All the negative input values become zero immediately, which decreases the model’s ability to fit or train from the data properly. \n",
    "- Leaky ReLU\n",
    "    - Leaky ReLU is an improved version of ReLU function to solve the Dying ReLU problem as it has a small positive slope in the negative area.\n",
    "    - formula:\n",
    "      $$f(x)=\\max(0.1x,x)$$\n",
    "    - The predictions may not be consistent for negative input values. \n",
    "    - The gradient for negative values is a small value that makes the learning of model parameters time-consuming.\n",
    "- Parametric ReLU\n",
    "    - formula:\n",
    "      $$f(x)=\\max(ax,x)$$\n",
    "    - Parametric ReLU is another variant of ReLU that aims to solve the problem of gradient’s becoming zero for the left half of the axis.\n",
    "    - This function provides the slope of the negative part of the function as an argument $a$. By performing backpropagation, the most appropriate value of $a$ is learnt.\n",
    "    - The parameterized ReLU function is used when the leaky ReLU function still fails at solving the problem of dead neurons, and the relevant information is not successfully passed to the next layer. \n",
    "- Exponential Linear Units (ELUs) \n",
    "    - ELU uses a log curve to define the negativ values unlike the leaky ReLU and Parametric ReLU functions with a straight line.\n",
    "    - formula:\n",
    "      $$f(x) = \\begin{cases}\n",
    "        x &\\text{if } x \\ge 0 \\\\\n",
    "        \\alpha(e^x-1) &\\text{if } x<0\n",
    "        \\end{cases}$$\n",
    "    - ELU becomes smooth slowly until its output equal to $\\alpha$ whereas RELU sharply smoothes.\n",
    "    - Avoids dead ReLU problem by introducing log curve for negative values of input. It helps the network nudge weights and biases in the right direction.\n",
    "    - No learning of the $\\alpha$ value takes place\n",
    "- Softmax \n",
    "  - It is used for multiclass classification.\n",
    "  - formula:\n",
    "    $$f(x_i)=\\frac{e^{x_i}}{\\sum_{j}e^{x_j} } $$ \n",
    "- swish \n",
    "    - Formulae :\n",
    "      $$f(x)=\\frac{x}{1+e^{-x}} $$\n",
    "    - Swish is a smooth function that means that it does not abruptly change direction like ReLU does near x = 0. Rather, it smoothly bends from 0 towards values < 0 and then upwards again.\n",
    "    - The swish function being non-monotonous enhances the expression of input data and weight to be learnt.\n",
    "- Max Out\n",
    "    - It is generalization of ReLU.\n",
    "    - formula:\n",
    "      $$f(x)=\\max(w_1^Tx+b_1,w_2^Tx+b_2)$$\n",
    "- \n",
    "  ::: {.alert .alert-dismissible .alert-secondary} \n",
    "  <h5>Guide-Line to Chose activation Function</h5> \n",
    "    - Regression — Linear Activation Function\n",
    "    - Binary Classification — Sigmoid/Logistic Activation Function\n",
    "    - Multiclass Classification — Softmax\n",
    "    - Multilabel Classification — Sigmoid\n",
    "    - ReLU activation function should only be used in the hidden layers.\n",
    "    - Sigmoid/Logistic and Tanh functions should not be used in hidden layers as they make the model more susceptible to problems during training (due to vanishing gradients)\n",
    "    - Swish function is used in neural networks having a depth greater than 40 layers.\n",
    "    - Try tanh, but expect it to work worse than ReLU/Maxout.\n",
    "  :::\n"
   ]
  },
  {
   "cell_type": "code",
   "execution_count": 59,
   "metadata": {},
   "outputs": [
    {
     "data": {
      "text/html": [
       "        <script type=\"text/javascript\">\n",
       "        window.PlotlyConfig = {MathJaxConfig: 'local'};\n",
       "        if (window.MathJax && window.MathJax.Hub && window.MathJax.Hub.Config) {window.MathJax.Hub.Config({SVG: {font: \"STIX-Web\"}});}\n",
       "        if (typeof require !== 'undefined') {\n",
       "        require.undef(\"plotly\");\n",
       "        requirejs.config({\n",
       "            paths: {\n",
       "                'plotly': ['https://cdn.plot.ly/plotly-2.12.1.min']\n",
       "            }\n",
       "        });\n",
       "        require(['plotly'], function(Plotly) {\n",
       "            window._Plotly = Plotly;\n",
       "        });\n",
       "        }\n",
       "        </script>\n",
       "        "
      ]
     },
     "metadata": {},
     "output_type": "display_data"
    },
    {
     "data": {
      "application/vnd.plotly.v1+json": {
       "config": {
        "plotlyServerURL": "https://plot.ly"
       },
       "data": [
        {
         "type": "scatter",
         "x": [
          -5,
          -4.795918367346939,
          -4.591836734693878,
          -4.387755102040816,
          -4.183673469387755,
          -3.979591836734694,
          -3.7755102040816326,
          -3.571428571428571,
          -3.36734693877551,
          -3.163265306122449,
          -2.9591836734693877,
          -2.7551020408163263,
          -2.5510204081632653,
          -2.3469387755102042,
          -2.142857142857143,
          -1.9387755102040813,
          -1.7346938775510203,
          -1.5306122448979593,
          -1.3265306122448979,
          -1.1224489795918364,
          -0.9183673469387754,
          -0.7142857142857144,
          -0.5102040816326525,
          -0.3061224489795915,
          -0.1020408163265305,
          0.1020408163265305,
          0.3061224489795915,
          0.5102040816326534,
          0.7142857142857144,
          0.9183673469387754,
          1.1224489795918373,
          1.3265306122448983,
          1.5306122448979593,
          1.7346938775510203,
          1.9387755102040813,
          2.1428571428571432,
          2.3469387755102042,
          2.5510204081632653,
          2.755102040816327,
          2.959183673469388,
          3.163265306122449,
          3.36734693877551,
          3.571428571428571,
          3.775510204081632,
          3.979591836734695,
          4.183673469387756,
          4.387755102040817,
          4.591836734693878,
          4.795918367346939,
          5
         ],
         "xaxis": "x",
         "y": [
          0.0066928509242848554,
          0.008195682245394699,
          0.010032555186013372,
          0.012276025071468199,
          0.015013569057033847,
          0.018350241705691772,
          0.022411596418032444,
          0.02734678679618289,
          0.033331686533853294,
          0.040571758423092276,
          0.04930425596537221,
          0.059799151969359574,
          0.07235796333544683,
          0.08730940263865966,
          0.10500058502026482,
          0.12578244121862014,
          0.14998816555871142,
          0.1779041247108555,
          0.209733821699624,
          0.2455573055902638,
          0.2852906753756516,
          0.32865254651727,
          0.3751456852515014,
          0.424061486151752,
          0.4745119079463219,
          0.5254880920536781,
          0.575938513848248,
          0.624854314748499,
          0.6713474534827301,
          0.7147093246243483,
          0.7544426944097363,
          0.790266178300376,
          0.8220958752891444,
          0.8500118344412885,
          0.87421755878138,
          0.8949994149797352,
          0.9126905973613403,
          0.9276420366645531,
          0.9402008480306404,
          0.9506957440346279,
          0.9594282415769078,
          0.9666683134661466,
          0.9726532132038171,
          0.9775884035819675,
          0.9816497582943083,
          0.9849864309429661,
          0.9877239749285319,
          0.9899674448139867,
          0.9918043177546053,
          0.9933071490757153
         ],
         "yaxis": "y"
        },
        {
         "type": "scatter",
         "x": [
          -5,
          -4.795918367346939,
          -4.591836734693878,
          -4.387755102040816,
          -4.183673469387755,
          -3.979591836734694,
          -3.7755102040816326,
          -3.571428571428571,
          -3.36734693877551,
          -3.163265306122449,
          -2.9591836734693877,
          -2.7551020408163263,
          -2.5510204081632653,
          -2.3469387755102042,
          -2.142857142857143,
          -1.9387755102040813,
          -1.7346938775510203,
          -1.5306122448979593,
          -1.3265306122448979,
          -1.1224489795918364,
          -0.9183673469387754,
          -0.7142857142857144,
          -0.5102040816326525,
          -0.3061224489795915,
          -0.1020408163265305,
          0.1020408163265305,
          0.3061224489795915,
          0.5102040816326534,
          0.7142857142857144,
          0.9183673469387754,
          1.1224489795918373,
          1.3265306122448983,
          1.5306122448979593,
          1.7346938775510203,
          1.9387755102040813,
          2.1428571428571432,
          2.3469387755102042,
          2.5510204081632653,
          2.755102040816327,
          2.959183673469388,
          3.163265306122449,
          3.36734693877551,
          3.571428571428571,
          3.775510204081632,
          3.979591836734695,
          4.183673469387756,
          4.387755102040817,
          4.591836734693878,
          4.795918367346939,
          5
         ],
         "xaxis": "x2",
         "y": [
          -0.9999092042625951,
          -0.9998634415507954,
          -0.9997946159642279,
          -0.999691107575254,
          -0.9995354456794231,
          -0.9993013676153218,
          -0.9989494050572058,
          -0.9984202681165271,
          -0.9976249455842615,
          -0.9964299299508876,
          -0.9946352534407366,
          -0.9919420332830022,
          -0.9879049562527997,
          -0.9818637011172895,
          -0.9728461661125113,
          -0.9594367963458108,
          -0.939608189243296,
          -0.9105293071885276,
          -0.8683988338721091,
          -0.8084190680766979,
          -0.7251241351036911,
          -0.6133572603953827,
          -0.470104194194287,
          -0.29690544684776476,
          -0.10168812436848527,
          0.10168812436848527,
          0.29690544684776476,
          0.47010419419428773,
          0.6133572603953827,
          0.7251241351036911,
          0.8084190680766983,
          0.8683988338721091,
          0.9105293071885276,
          0.939608189243296,
          0.9594367963458108,
          0.9728461661125113,
          0.9818637011172895,
          0.9879049562527997,
          0.9919420332830023,
          0.9946352534407366,
          0.9964299299508876,
          0.9976249455842615,
          0.9984202681165271,
          0.9989494050572058,
          0.9993013676153218,
          0.9995354456794231,
          0.999691107575254,
          0.9997946159642279,
          0.9998634415507954,
          0.9999092042625951
         ],
         "yaxis": "y2"
        },
        {
         "type": "scatter",
         "x": [
          -5,
          -4.795918367346939,
          -4.591836734693878,
          -4.387755102040816,
          -4.183673469387755,
          -3.979591836734694,
          -3.7755102040816326,
          -3.571428571428571,
          -3.36734693877551,
          -3.163265306122449,
          -2.9591836734693877,
          -2.7551020408163263,
          -2.5510204081632653,
          -2.3469387755102042,
          -2.142857142857143,
          -1.9387755102040813,
          -1.7346938775510203,
          -1.5306122448979593,
          -1.3265306122448979,
          -1.1224489795918364,
          -0.9183673469387754,
          -0.7142857142857144,
          -0.5102040816326525,
          -0.3061224489795915,
          -0.1020408163265305,
          0.1020408163265305,
          0.3061224489795915,
          0.5102040816326534,
          0.7142857142857144,
          0.9183673469387754,
          1.1224489795918373,
          1.3265306122448983,
          1.5306122448979593,
          1.7346938775510203,
          1.9387755102040813,
          2.1428571428571432,
          2.3469387755102042,
          2.5510204081632653,
          2.755102040816327,
          2.959183673469388,
          3.163265306122449,
          3.36734693877551,
          3.571428571428571,
          3.775510204081632,
          3.979591836734695,
          4.183673469387756,
          4.387755102040817,
          4.591836734693878,
          4.795918367346939,
          5
         ],
         "xaxis": "x3",
         "y": [
          0,
          0,
          0,
          0,
          0,
          0,
          0,
          0,
          0,
          0,
          0,
          0,
          0,
          0,
          0,
          0,
          0,
          0,
          0,
          0,
          0,
          0,
          0,
          0,
          0,
          0.1020408163265305,
          0.3061224489795915,
          0.5102040816326534,
          0.7142857142857144,
          0.9183673469387754,
          1.1224489795918373,
          1.3265306122448983,
          1.5306122448979593,
          1.7346938775510203,
          1.9387755102040813,
          2.1428571428571432,
          2.3469387755102042,
          2.5510204081632653,
          2.755102040816327,
          2.959183673469388,
          3.163265306122449,
          3.36734693877551,
          3.571428571428571,
          3.775510204081632,
          3.979591836734695,
          4.183673469387756,
          4.387755102040817,
          4.591836734693878,
          4.795918367346939,
          5
         ],
         "yaxis": "y3"
        },
        {
         "type": "scatter",
         "x": [
          -5,
          -4.795918367346939,
          -4.591836734693878,
          -4.387755102040816,
          -4.183673469387755,
          -3.979591836734694,
          -3.7755102040816326,
          -3.571428571428571,
          -3.36734693877551,
          -3.163265306122449,
          -2.9591836734693877,
          -2.7551020408163263,
          -2.5510204081632653,
          -2.3469387755102042,
          -2.142857142857143,
          -1.9387755102040813,
          -1.7346938775510203,
          -1.5306122448979593,
          -1.3265306122448979,
          -1.1224489795918364,
          -0.9183673469387754,
          -0.7142857142857144,
          -0.5102040816326525,
          -0.3061224489795915,
          -0.1020408163265305,
          0.1020408163265305,
          0.3061224489795915,
          0.5102040816326534,
          0.7142857142857144,
          0.9183673469387754,
          1.1224489795918373,
          1.3265306122448983,
          1.5306122448979593,
          1.7346938775510203,
          1.9387755102040813,
          2.1428571428571432,
          2.3469387755102042,
          2.5510204081632653,
          2.755102040816327,
          2.959183673469388,
          3.163265306122449,
          3.36734693877551,
          3.571428571428571,
          3.775510204081632,
          3.979591836734695,
          4.183673469387756,
          4.387755102040817,
          4.591836734693878,
          4.795918367346939,
          5
         ],
         "xaxis": "x4",
         "y": [
          -0.5,
          -0.4795918367346939,
          -0.4591836734693878,
          -0.4387755102040816,
          -0.41836734693877553,
          -0.39795918367346944,
          -0.3775510204081633,
          -0.35714285714285715,
          -0.33673469387755106,
          -0.3163265306122449,
          -0.29591836734693877,
          -0.2755102040816326,
          -0.25510204081632654,
          -0.23469387755102045,
          -0.2142857142857143,
          -0.19387755102040816,
          -0.17346938775510204,
          -0.15306122448979595,
          -0.1326530612244898,
          -0.11224489795918365,
          -0.09183673469387754,
          -0.07142857142857144,
          -0.05102040816326525,
          -0.030612244897959152,
          -0.010204081632653052,
          0.1020408163265305,
          0.3061224489795915,
          0.5102040816326534,
          0.7142857142857144,
          0.9183673469387754,
          1.1224489795918373,
          1.3265306122448983,
          1.5306122448979593,
          1.7346938775510203,
          1.9387755102040813,
          2.1428571428571432,
          2.3469387755102042,
          2.5510204081632653,
          2.755102040816327,
          2.959183673469388,
          3.163265306122449,
          3.36734693877551,
          3.571428571428571,
          3.775510204081632,
          3.979591836734695,
          4.183673469387756,
          4.387755102040817,
          4.591836734693878,
          4.795918367346939,
          5
         ],
         "yaxis": "y4"
        },
        {
         "type": "scatter",
         "x": [
          -5,
          -4.795918367346939,
          -4.591836734693878,
          -4.387755102040816,
          -4.183673469387755,
          -3.979591836734694,
          -3.7755102040816326,
          -3.571428571428571,
          -3.36734693877551,
          -3.163265306122449,
          -2.9591836734693877,
          -2.7551020408163263,
          -2.5510204081632653,
          -2.3469387755102042,
          -2.142857142857143,
          -1.9387755102040813,
          -1.7346938775510203,
          -1.5306122448979593,
          -1.3265306122448979,
          -1.1224489795918364,
          -0.9183673469387754,
          -0.7142857142857144,
          -0.5102040816326525,
          -0.3061224489795915,
          -0.1020408163265305,
          0.1020408163265305,
          0.3061224489795915,
          0.5102040816326534,
          0.7142857142857144,
          0.9183673469387754,
          1.1224489795918373,
          1.3265306122448983,
          1.5306122448979593,
          1.7346938775510203,
          1.9387755102040813,
          2.1428571428571432,
          2.3469387755102042,
          2.5510204081632653,
          2.755102040816327,
          2.959183673469388,
          3.163265306122449,
          3.36734693877551,
          3.571428571428571,
          3.775510204081632,
          3.979591836734695,
          4.183673469387756,
          4.387755102040817,
          4.591836734693878,
          4.795918367346939,
          5
         ],
         "xaxis": "x5",
         "y": [
          -4.966310265004573,
          -4.9586829675033615,
          -4.949328863092571,
          -4.93785700568645,
          -4.923787939684302,
          -4.906533661570005,
          -4.885373044852443,
          -4.85942170125514,
          -4.827595018531553,
          -4.788562830105934,
          -4.7406938219996055,
          -4.6819873535818655,
          -4.609989842657312,
          -4.521692220282109,
          -4.4134041695287465,
          -4.280599892125506,
          -4.117728956930945,
          -3.9179843248314334,
          -3.673017854878351,
          -3.37259140150874,
          -3.0041489207825816,
          -2.5522917022152347,
          -1.9981347940079763,
          -1.3185177240683155,
          -0.485036529639849,
          0.1020408163265305,
          0.3061224489795915,
          0.5102040816326534,
          0.7142857142857144,
          0.9183673469387754,
          1.1224489795918373,
          1.3265306122448983,
          1.5306122448979593,
          1.7346938775510203,
          1.9387755102040813,
          2.1428571428571432,
          2.3469387755102042,
          2.5510204081632653,
          2.755102040816327,
          2.959183673469388,
          3.163265306122449,
          3.36734693877551,
          3.571428571428571,
          3.775510204081632,
          3.979591836734695,
          4.183673469387756,
          4.387755102040817,
          4.591836734693878,
          4.795918367346939,
          5
         ],
         "yaxis": "y5"
        },
        {
         "type": "scatter",
         "x": [
          -5,
          -4.795918367346939,
          -4.591836734693878,
          -4.387755102040816,
          -4.183673469387755,
          -3.979591836734694,
          -3.7755102040816326,
          -3.571428571428571,
          -3.36734693877551,
          -3.163265306122449,
          -2.9591836734693877,
          -2.7551020408163263,
          -2.5510204081632653,
          -2.3469387755102042,
          -2.142857142857143,
          -1.9387755102040813,
          -1.7346938775510203,
          -1.5306122448979593,
          -1.3265306122448979,
          -1.1224489795918364,
          -0.9183673469387754,
          -0.7142857142857144,
          -0.5102040816326525,
          -0.3061224489795915,
          -0.1020408163265305,
          0.1020408163265305,
          0.3061224489795915,
          0.5102040816326534,
          0.7142857142857144,
          0.9183673469387754,
          1.1224489795918373,
          1.3265306122448983,
          1.5306122448979593,
          1.7346938775510203,
          1.9387755102040813,
          2.1428571428571432,
          2.3469387755102042,
          2.5510204081632653,
          2.755102040816327,
          2.959183673469388,
          3.163265306122449,
          3.36734693877551,
          3.571428571428571,
          3.775510204081632,
          3.979591836734695,
          4.183673469387756,
          4.387755102040817,
          4.591836734693878,
          4.795918367346939,
          5
         ],
         "xaxis": "x6",
         "y": [
          -0.03346425462142428,
          -0.03930582301362764,
          -0.04606785544597978,
          -0.053864191640115563,
          -0.06281187054473344,
          -0.0730264720940795,
          -0.08461521096604085,
          -0.09766709570065317,
          -0.11223935261399579,
          -0.12833923582814905,
          -0.1459003492852851,
          -0.1647527656298682,
          -0.18458664116185416,
          -0.20490982251930331,
          -0.22500125361485318,
          -0.24386391664834514,
          -0.2601835524998055,
          -0.27230223170028905,
          -0.2782183349076645,
          -0.27562554709111237,
          -0.2620016406511086,
          -0.2347518189409072,
          -0.19140085982219437,
          -0.12981474065869947,
          -0.04841958244350218,
          0.05362123388302832,
          0.17630770832089204,
          0.31880322181045884,
          0.4795338953448072,
          0.6563657062876668,
          0.8468234325007249,
          1.0483122773372338,
          1.25831001319767,
          1.4745103250512146,
          1.6949115935557364,
          1.9178558892422901,
          2.1420289529909007,
          2.366433767001411,
          2.5903492751864587,
          2.8132833241841033,
          3.0349260702943,
          3.255107586161514,
          3.473761475727918,
          3.690894993115591,
          3.9065653646406155,
          4.120861598843023,
          4.333890910400702,
          4.545768879247898,
          4.756612544333311,
          4.966535745378576
         ],
         "yaxis": "y6"
        }
       ],
       "layout": {
        "annotations": [
         {
          "font": {
           "size": 16
          },
          "showarrow": false,
          "text": "Sigmoid",
          "x": 0.225,
          "xanchor": "center",
          "xref": "paper",
          "y": 1,
          "yanchor": "bottom",
          "yref": "paper"
         },
         {
          "font": {
           "size": 16
          },
          "showarrow": false,
          "text": "tanh",
          "x": 0.775,
          "xanchor": "center",
          "xref": "paper",
          "y": 1,
          "yanchor": "bottom",
          "yref": "paper"
         },
         {
          "font": {
           "size": 16
          },
          "showarrow": false,
          "text": "ReLU",
          "x": 0.225,
          "xanchor": "center",
          "xref": "paper",
          "y": 0.6111111111111112,
          "yanchor": "bottom",
          "yref": "paper"
         },
         {
          "font": {
           "size": 16
          },
          "showarrow": false,
          "text": "Leaky ReLU",
          "x": 0.775,
          "xanchor": "center",
          "xref": "paper",
          "y": 0.6111111111111112,
          "yanchor": "bottom",
          "yref": "paper"
         },
         {
          "font": {
           "size": 16
          },
          "showarrow": false,
          "text": "ELU",
          "x": 0.225,
          "xanchor": "center",
          "xref": "paper",
          "y": 0.22222222222222224,
          "yanchor": "bottom",
          "yref": "paper"
         },
         {
          "font": {
           "size": 16
          },
          "showarrow": false,
          "text": "swish",
          "x": 0.775,
          "xanchor": "center",
          "xref": "paper",
          "y": 0.22222222222222224,
          "yanchor": "bottom",
          "yref": "paper"
         }
        ],
        "showlegend": false,
        "template": {
         "data": {
          "bar": [
           {
            "error_x": {
             "color": "#2a3f5f"
            },
            "error_y": {
             "color": "#2a3f5f"
            },
            "marker": {
             "line": {
              "color": "#E5ECF6",
              "width": 0.5
             },
             "pattern": {
              "fillmode": "overlay",
              "size": 10,
              "solidity": 0.2
             }
            },
            "type": "bar"
           }
          ],
          "barpolar": [
           {
            "marker": {
             "line": {
              "color": "#E5ECF6",
              "width": 0.5
             },
             "pattern": {
              "fillmode": "overlay",
              "size": 10,
              "solidity": 0.2
             }
            },
            "type": "barpolar"
           }
          ],
          "carpet": [
           {
            "aaxis": {
             "endlinecolor": "#2a3f5f",
             "gridcolor": "white",
             "linecolor": "white",
             "minorgridcolor": "white",
             "startlinecolor": "#2a3f5f"
            },
            "baxis": {
             "endlinecolor": "#2a3f5f",
             "gridcolor": "white",
             "linecolor": "white",
             "minorgridcolor": "white",
             "startlinecolor": "#2a3f5f"
            },
            "type": "carpet"
           }
          ],
          "choropleth": [
           {
            "colorbar": {
             "outlinewidth": 0,
             "ticks": ""
            },
            "type": "choropleth"
           }
          ],
          "contour": [
           {
            "colorbar": {
             "outlinewidth": 0,
             "ticks": ""
            },
            "colorscale": [
             [
              0,
              "#0d0887"
             ],
             [
              0.1111111111111111,
              "#46039f"
             ],
             [
              0.2222222222222222,
              "#7201a8"
             ],
             [
              0.3333333333333333,
              "#9c179e"
             ],
             [
              0.4444444444444444,
              "#bd3786"
             ],
             [
              0.5555555555555556,
              "#d8576b"
             ],
             [
              0.6666666666666666,
              "#ed7953"
             ],
             [
              0.7777777777777778,
              "#fb9f3a"
             ],
             [
              0.8888888888888888,
              "#fdca26"
             ],
             [
              1,
              "#f0f921"
             ]
            ],
            "type": "contour"
           }
          ],
          "contourcarpet": [
           {
            "colorbar": {
             "outlinewidth": 0,
             "ticks": ""
            },
            "type": "contourcarpet"
           }
          ],
          "heatmap": [
           {
            "colorbar": {
             "outlinewidth": 0,
             "ticks": ""
            },
            "colorscale": [
             [
              0,
              "#0d0887"
             ],
             [
              0.1111111111111111,
              "#46039f"
             ],
             [
              0.2222222222222222,
              "#7201a8"
             ],
             [
              0.3333333333333333,
              "#9c179e"
             ],
             [
              0.4444444444444444,
              "#bd3786"
             ],
             [
              0.5555555555555556,
              "#d8576b"
             ],
             [
              0.6666666666666666,
              "#ed7953"
             ],
             [
              0.7777777777777778,
              "#fb9f3a"
             ],
             [
              0.8888888888888888,
              "#fdca26"
             ],
             [
              1,
              "#f0f921"
             ]
            ],
            "type": "heatmap"
           }
          ],
          "heatmapgl": [
           {
            "colorbar": {
             "outlinewidth": 0,
             "ticks": ""
            },
            "colorscale": [
             [
              0,
              "#0d0887"
             ],
             [
              0.1111111111111111,
              "#46039f"
             ],
             [
              0.2222222222222222,
              "#7201a8"
             ],
             [
              0.3333333333333333,
              "#9c179e"
             ],
             [
              0.4444444444444444,
              "#bd3786"
             ],
             [
              0.5555555555555556,
              "#d8576b"
             ],
             [
              0.6666666666666666,
              "#ed7953"
             ],
             [
              0.7777777777777778,
              "#fb9f3a"
             ],
             [
              0.8888888888888888,
              "#fdca26"
             ],
             [
              1,
              "#f0f921"
             ]
            ],
            "type": "heatmapgl"
           }
          ],
          "histogram": [
           {
            "marker": {
             "pattern": {
              "fillmode": "overlay",
              "size": 10,
              "solidity": 0.2
             }
            },
            "type": "histogram"
           }
          ],
          "histogram2d": [
           {
            "colorbar": {
             "outlinewidth": 0,
             "ticks": ""
            },
            "colorscale": [
             [
              0,
              "#0d0887"
             ],
             [
              0.1111111111111111,
              "#46039f"
             ],
             [
              0.2222222222222222,
              "#7201a8"
             ],
             [
              0.3333333333333333,
              "#9c179e"
             ],
             [
              0.4444444444444444,
              "#bd3786"
             ],
             [
              0.5555555555555556,
              "#d8576b"
             ],
             [
              0.6666666666666666,
              "#ed7953"
             ],
             [
              0.7777777777777778,
              "#fb9f3a"
             ],
             [
              0.8888888888888888,
              "#fdca26"
             ],
             [
              1,
              "#f0f921"
             ]
            ],
            "type": "histogram2d"
           }
          ],
          "histogram2dcontour": [
           {
            "colorbar": {
             "outlinewidth": 0,
             "ticks": ""
            },
            "colorscale": [
             [
              0,
              "#0d0887"
             ],
             [
              0.1111111111111111,
              "#46039f"
             ],
             [
              0.2222222222222222,
              "#7201a8"
             ],
             [
              0.3333333333333333,
              "#9c179e"
             ],
             [
              0.4444444444444444,
              "#bd3786"
             ],
             [
              0.5555555555555556,
              "#d8576b"
             ],
             [
              0.6666666666666666,
              "#ed7953"
             ],
             [
              0.7777777777777778,
              "#fb9f3a"
             ],
             [
              0.8888888888888888,
              "#fdca26"
             ],
             [
              1,
              "#f0f921"
             ]
            ],
            "type": "histogram2dcontour"
           }
          ],
          "mesh3d": [
           {
            "colorbar": {
             "outlinewidth": 0,
             "ticks": ""
            },
            "type": "mesh3d"
           }
          ],
          "parcoords": [
           {
            "line": {
             "colorbar": {
              "outlinewidth": 0,
              "ticks": ""
             }
            },
            "type": "parcoords"
           }
          ],
          "pie": [
           {
            "automargin": true,
            "type": "pie"
           }
          ],
          "scatter": [
           {
            "fillpattern": {
             "fillmode": "overlay",
             "size": 10,
             "solidity": 0.2
            },
            "type": "scatter"
           }
          ],
          "scatter3d": [
           {
            "line": {
             "colorbar": {
              "outlinewidth": 0,
              "ticks": ""
             }
            },
            "marker": {
             "colorbar": {
              "outlinewidth": 0,
              "ticks": ""
             }
            },
            "type": "scatter3d"
           }
          ],
          "scattercarpet": [
           {
            "marker": {
             "colorbar": {
              "outlinewidth": 0,
              "ticks": ""
             }
            },
            "type": "scattercarpet"
           }
          ],
          "scattergeo": [
           {
            "marker": {
             "colorbar": {
              "outlinewidth": 0,
              "ticks": ""
             }
            },
            "type": "scattergeo"
           }
          ],
          "scattergl": [
           {
            "marker": {
             "colorbar": {
              "outlinewidth": 0,
              "ticks": ""
             }
            },
            "type": "scattergl"
           }
          ],
          "scattermapbox": [
           {
            "marker": {
             "colorbar": {
              "outlinewidth": 0,
              "ticks": ""
             }
            },
            "type": "scattermapbox"
           }
          ],
          "scatterpolar": [
           {
            "marker": {
             "colorbar": {
              "outlinewidth": 0,
              "ticks": ""
             }
            },
            "type": "scatterpolar"
           }
          ],
          "scatterpolargl": [
           {
            "marker": {
             "colorbar": {
              "outlinewidth": 0,
              "ticks": ""
             }
            },
            "type": "scatterpolargl"
           }
          ],
          "scatterternary": [
           {
            "marker": {
             "colorbar": {
              "outlinewidth": 0,
              "ticks": ""
             }
            },
            "type": "scatterternary"
           }
          ],
          "surface": [
           {
            "colorbar": {
             "outlinewidth": 0,
             "ticks": ""
            },
            "colorscale": [
             [
              0,
              "#0d0887"
             ],
             [
              0.1111111111111111,
              "#46039f"
             ],
             [
              0.2222222222222222,
              "#7201a8"
             ],
             [
              0.3333333333333333,
              "#9c179e"
             ],
             [
              0.4444444444444444,
              "#bd3786"
             ],
             [
              0.5555555555555556,
              "#d8576b"
             ],
             [
              0.6666666666666666,
              "#ed7953"
             ],
             [
              0.7777777777777778,
              "#fb9f3a"
             ],
             [
              0.8888888888888888,
              "#fdca26"
             ],
             [
              1,
              "#f0f921"
             ]
            ],
            "type": "surface"
           }
          ],
          "table": [
           {
            "cells": {
             "fill": {
              "color": "#EBF0F8"
             },
             "line": {
              "color": "white"
             }
            },
            "header": {
             "fill": {
              "color": "#C8D4E3"
             },
             "line": {
              "color": "white"
             }
            },
            "type": "table"
           }
          ]
         },
         "layout": {
          "annotationdefaults": {
           "arrowcolor": "#2a3f5f",
           "arrowhead": 0,
           "arrowwidth": 1
          },
          "autotypenumbers": "strict",
          "coloraxis": {
           "colorbar": {
            "outlinewidth": 0,
            "ticks": ""
           }
          },
          "colorscale": {
           "diverging": [
            [
             0,
             "#8e0152"
            ],
            [
             0.1,
             "#c51b7d"
            ],
            [
             0.2,
             "#de77ae"
            ],
            [
             0.3,
             "#f1b6da"
            ],
            [
             0.4,
             "#fde0ef"
            ],
            [
             0.5,
             "#f7f7f7"
            ],
            [
             0.6,
             "#e6f5d0"
            ],
            [
             0.7,
             "#b8e186"
            ],
            [
             0.8,
             "#7fbc41"
            ],
            [
             0.9,
             "#4d9221"
            ],
            [
             1,
             "#276419"
            ]
           ],
           "sequential": [
            [
             0,
             "#0d0887"
            ],
            [
             0.1111111111111111,
             "#46039f"
            ],
            [
             0.2222222222222222,
             "#7201a8"
            ],
            [
             0.3333333333333333,
             "#9c179e"
            ],
            [
             0.4444444444444444,
             "#bd3786"
            ],
            [
             0.5555555555555556,
             "#d8576b"
            ],
            [
             0.6666666666666666,
             "#ed7953"
            ],
            [
             0.7777777777777778,
             "#fb9f3a"
            ],
            [
             0.8888888888888888,
             "#fdca26"
            ],
            [
             1,
             "#f0f921"
            ]
           ],
           "sequentialminus": [
            [
             0,
             "#0d0887"
            ],
            [
             0.1111111111111111,
             "#46039f"
            ],
            [
             0.2222222222222222,
             "#7201a8"
            ],
            [
             0.3333333333333333,
             "#9c179e"
            ],
            [
             0.4444444444444444,
             "#bd3786"
            ],
            [
             0.5555555555555556,
             "#d8576b"
            ],
            [
             0.6666666666666666,
             "#ed7953"
            ],
            [
             0.7777777777777778,
             "#fb9f3a"
            ],
            [
             0.8888888888888888,
             "#fdca26"
            ],
            [
             1,
             "#f0f921"
            ]
           ]
          },
          "colorway": [
           "#636efa",
           "#EF553B",
           "#00cc96",
           "#ab63fa",
           "#FFA15A",
           "#19d3f3",
           "#FF6692",
           "#B6E880",
           "#FF97FF",
           "#FECB52"
          ],
          "font": {
           "color": "#2a3f5f"
          },
          "geo": {
           "bgcolor": "white",
           "lakecolor": "white",
           "landcolor": "#E5ECF6",
           "showlakes": true,
           "showland": true,
           "subunitcolor": "white"
          },
          "hoverlabel": {
           "align": "left"
          },
          "hovermode": "closest",
          "mapbox": {
           "style": "light"
          },
          "paper_bgcolor": "white",
          "plot_bgcolor": "#E5ECF6",
          "polar": {
           "angularaxis": {
            "gridcolor": "white",
            "linecolor": "white",
            "ticks": ""
           },
           "bgcolor": "#E5ECF6",
           "radialaxis": {
            "gridcolor": "white",
            "linecolor": "white",
            "ticks": ""
           }
          },
          "scene": {
           "xaxis": {
            "backgroundcolor": "#E5ECF6",
            "gridcolor": "white",
            "gridwidth": 2,
            "linecolor": "white",
            "showbackground": true,
            "ticks": "",
            "zerolinecolor": "white"
           },
           "yaxis": {
            "backgroundcolor": "#E5ECF6",
            "gridcolor": "white",
            "gridwidth": 2,
            "linecolor": "white",
            "showbackground": true,
            "ticks": "",
            "zerolinecolor": "white"
           },
           "zaxis": {
            "backgroundcolor": "#E5ECF6",
            "gridcolor": "white",
            "gridwidth": 2,
            "linecolor": "white",
            "showbackground": true,
            "ticks": "",
            "zerolinecolor": "white"
           }
          },
          "shapedefaults": {
           "line": {
            "color": "#2a3f5f"
           }
          },
          "ternary": {
           "aaxis": {
            "gridcolor": "white",
            "linecolor": "white",
            "ticks": ""
           },
           "baxis": {
            "gridcolor": "white",
            "linecolor": "white",
            "ticks": ""
           },
           "bgcolor": "#E5ECF6",
           "caxis": {
            "gridcolor": "white",
            "linecolor": "white",
            "ticks": ""
           }
          },
          "title": {
           "x": 0.05
          },
          "xaxis": {
           "automargin": true,
           "gridcolor": "white",
           "linecolor": "white",
           "ticks": "",
           "title": {
            "standoff": 15
           },
           "zerolinecolor": "white",
           "zerolinewidth": 2
          },
          "yaxis": {
           "automargin": true,
           "gridcolor": "white",
           "linecolor": "white",
           "ticks": "",
           "title": {
            "standoff": 15
           },
           "zerolinecolor": "white",
           "zerolinewidth": 2
          }
         }
        },
        "xaxis": {
         "anchor": "y",
         "domain": [
          0,
          0.45
         ]
        },
        "xaxis2": {
         "anchor": "y2",
         "domain": [
          0.55,
          1
         ]
        },
        "xaxis3": {
         "anchor": "y3",
         "domain": [
          0,
          0.45
         ]
        },
        "xaxis4": {
         "anchor": "y4",
         "domain": [
          0.55,
          1
         ]
        },
        "xaxis5": {
         "anchor": "y5",
         "domain": [
          0,
          0.45
         ]
        },
        "xaxis6": {
         "anchor": "y6",
         "domain": [
          0.55,
          1
         ]
        },
        "yaxis": {
         "anchor": "x",
         "domain": [
          0.7777777777777778,
          1
         ]
        },
        "yaxis2": {
         "anchor": "x2",
         "domain": [
          0.7777777777777778,
          1
         ]
        },
        "yaxis3": {
         "anchor": "x3",
         "domain": [
          0.3888888888888889,
          0.6111111111111112
         ]
        },
        "yaxis4": {
         "anchor": "x4",
         "domain": [
          0.3888888888888889,
          0.6111111111111112
         ]
        },
        "yaxis5": {
         "anchor": "x5",
         "domain": [
          0,
          0.22222222222222224
         ]
        },
        "yaxis6": {
         "anchor": "x6",
         "domain": [
          0,
          0.22222222222222224
         ]
        }
       }
      },
      "text/html": [
       "<div>                            <div id=\"1d771e4e-7b24-4d6e-9d6f-40d5fcbea4df\" class=\"plotly-graph-div\" style=\"height:525px; width:100%;\"></div>            <script type=\"text/javascript\">                require([\"plotly\"], function(Plotly) {                    window.PLOTLYENV=window.PLOTLYENV || {};                                    if (document.getElementById(\"1d771e4e-7b24-4d6e-9d6f-40d5fcbea4df\")) {                    Plotly.newPlot(                        \"1d771e4e-7b24-4d6e-9d6f-40d5fcbea4df\",                        [{\"x\":[-5.0,-4.795918367346939,-4.591836734693878,-4.387755102040816,-4.183673469387755,-3.979591836734694,-3.7755102040816326,-3.571428571428571,-3.36734693877551,-3.163265306122449,-2.9591836734693877,-2.7551020408163263,-2.5510204081632653,-2.3469387755102042,-2.142857142857143,-1.9387755102040813,-1.7346938775510203,-1.5306122448979593,-1.3265306122448979,-1.1224489795918364,-0.9183673469387754,-0.7142857142857144,-0.5102040816326525,-0.3061224489795915,-0.1020408163265305,0.1020408163265305,0.3061224489795915,0.5102040816326534,0.7142857142857144,0.9183673469387754,1.1224489795918373,1.3265306122448983,1.5306122448979593,1.7346938775510203,1.9387755102040813,2.1428571428571432,2.3469387755102042,2.5510204081632653,2.755102040816327,2.959183673469388,3.163265306122449,3.36734693877551,3.571428571428571,3.775510204081632,3.979591836734695,4.183673469387756,4.387755102040817,4.591836734693878,4.795918367346939,5.0],\"y\":[0.0066928509242848554,0.008195682245394699,0.010032555186013372,0.012276025071468199,0.015013569057033847,0.018350241705691772,0.022411596418032444,0.02734678679618289,0.033331686533853294,0.040571758423092276,0.04930425596537221,0.059799151969359574,0.07235796333544683,0.08730940263865966,0.10500058502026482,0.12578244121862014,0.14998816555871142,0.1779041247108555,0.209733821699624,0.2455573055902638,0.2852906753756516,0.32865254651727,0.3751456852515014,0.424061486151752,0.4745119079463219,0.5254880920536781,0.575938513848248,0.624854314748499,0.6713474534827301,0.7147093246243483,0.7544426944097363,0.790266178300376,0.8220958752891444,0.8500118344412885,0.87421755878138,0.8949994149797352,0.9126905973613403,0.9276420366645531,0.9402008480306404,0.9506957440346279,0.9594282415769078,0.9666683134661466,0.9726532132038171,0.9775884035819675,0.9816497582943083,0.9849864309429661,0.9877239749285319,0.9899674448139867,0.9918043177546053,0.9933071490757153],\"type\":\"scatter\",\"xaxis\":\"x\",\"yaxis\":\"y\"},{\"x\":[-5.0,-4.795918367346939,-4.591836734693878,-4.387755102040816,-4.183673469387755,-3.979591836734694,-3.7755102040816326,-3.571428571428571,-3.36734693877551,-3.163265306122449,-2.9591836734693877,-2.7551020408163263,-2.5510204081632653,-2.3469387755102042,-2.142857142857143,-1.9387755102040813,-1.7346938775510203,-1.5306122448979593,-1.3265306122448979,-1.1224489795918364,-0.9183673469387754,-0.7142857142857144,-0.5102040816326525,-0.3061224489795915,-0.1020408163265305,0.1020408163265305,0.3061224489795915,0.5102040816326534,0.7142857142857144,0.9183673469387754,1.1224489795918373,1.3265306122448983,1.5306122448979593,1.7346938775510203,1.9387755102040813,2.1428571428571432,2.3469387755102042,2.5510204081632653,2.755102040816327,2.959183673469388,3.163265306122449,3.36734693877551,3.571428571428571,3.775510204081632,3.979591836734695,4.183673469387756,4.387755102040817,4.591836734693878,4.795918367346939,5.0],\"y\":[-0.9999092042625951,-0.9998634415507954,-0.9997946159642279,-0.999691107575254,-0.9995354456794231,-0.9993013676153218,-0.9989494050572058,-0.9984202681165271,-0.9976249455842615,-0.9964299299508876,-0.9946352534407366,-0.9919420332830022,-0.9879049562527997,-0.9818637011172895,-0.9728461661125113,-0.9594367963458108,-0.939608189243296,-0.9105293071885276,-0.8683988338721091,-0.8084190680766979,-0.7251241351036911,-0.6133572603953827,-0.470104194194287,-0.29690544684776476,-0.10168812436848527,0.10168812436848527,0.29690544684776476,0.47010419419428773,0.6133572603953827,0.7251241351036911,0.8084190680766983,0.8683988338721091,0.9105293071885276,0.939608189243296,0.9594367963458108,0.9728461661125113,0.9818637011172895,0.9879049562527997,0.9919420332830023,0.9946352534407366,0.9964299299508876,0.9976249455842615,0.9984202681165271,0.9989494050572058,0.9993013676153218,0.9995354456794231,0.999691107575254,0.9997946159642279,0.9998634415507954,0.9999092042625951],\"type\":\"scatter\",\"xaxis\":\"x2\",\"yaxis\":\"y2\"},{\"x\":[-5.0,-4.795918367346939,-4.591836734693878,-4.387755102040816,-4.183673469387755,-3.979591836734694,-3.7755102040816326,-3.571428571428571,-3.36734693877551,-3.163265306122449,-2.9591836734693877,-2.7551020408163263,-2.5510204081632653,-2.3469387755102042,-2.142857142857143,-1.9387755102040813,-1.7346938775510203,-1.5306122448979593,-1.3265306122448979,-1.1224489795918364,-0.9183673469387754,-0.7142857142857144,-0.5102040816326525,-0.3061224489795915,-0.1020408163265305,0.1020408163265305,0.3061224489795915,0.5102040816326534,0.7142857142857144,0.9183673469387754,1.1224489795918373,1.3265306122448983,1.5306122448979593,1.7346938775510203,1.9387755102040813,2.1428571428571432,2.3469387755102042,2.5510204081632653,2.755102040816327,2.959183673469388,3.163265306122449,3.36734693877551,3.571428571428571,3.775510204081632,3.979591836734695,4.183673469387756,4.387755102040817,4.591836734693878,4.795918367346939,5.0],\"y\":[0.0,0.0,0.0,0.0,0.0,0.0,0.0,0.0,0.0,0.0,0.0,0.0,0.0,0.0,0.0,0.0,0.0,0.0,0.0,0.0,0.0,0.0,0.0,0.0,0.0,0.1020408163265305,0.3061224489795915,0.5102040816326534,0.7142857142857144,0.9183673469387754,1.1224489795918373,1.3265306122448983,1.5306122448979593,1.7346938775510203,1.9387755102040813,2.1428571428571432,2.3469387755102042,2.5510204081632653,2.755102040816327,2.959183673469388,3.163265306122449,3.36734693877551,3.571428571428571,3.775510204081632,3.979591836734695,4.183673469387756,4.387755102040817,4.591836734693878,4.795918367346939,5.0],\"type\":\"scatter\",\"xaxis\":\"x3\",\"yaxis\":\"y3\"},{\"x\":[-5.0,-4.795918367346939,-4.591836734693878,-4.387755102040816,-4.183673469387755,-3.979591836734694,-3.7755102040816326,-3.571428571428571,-3.36734693877551,-3.163265306122449,-2.9591836734693877,-2.7551020408163263,-2.5510204081632653,-2.3469387755102042,-2.142857142857143,-1.9387755102040813,-1.7346938775510203,-1.5306122448979593,-1.3265306122448979,-1.1224489795918364,-0.9183673469387754,-0.7142857142857144,-0.5102040816326525,-0.3061224489795915,-0.1020408163265305,0.1020408163265305,0.3061224489795915,0.5102040816326534,0.7142857142857144,0.9183673469387754,1.1224489795918373,1.3265306122448983,1.5306122448979593,1.7346938775510203,1.9387755102040813,2.1428571428571432,2.3469387755102042,2.5510204081632653,2.755102040816327,2.959183673469388,3.163265306122449,3.36734693877551,3.571428571428571,3.775510204081632,3.979591836734695,4.183673469387756,4.387755102040817,4.591836734693878,4.795918367346939,5.0],\"y\":[-0.5,-0.4795918367346939,-0.4591836734693878,-0.4387755102040816,-0.41836734693877553,-0.39795918367346944,-0.3775510204081633,-0.35714285714285715,-0.33673469387755106,-0.3163265306122449,-0.29591836734693877,-0.2755102040816326,-0.25510204081632654,-0.23469387755102045,-0.2142857142857143,-0.19387755102040816,-0.17346938775510204,-0.15306122448979595,-0.1326530612244898,-0.11224489795918365,-0.09183673469387754,-0.07142857142857144,-0.05102040816326525,-0.030612244897959152,-0.010204081632653052,0.1020408163265305,0.3061224489795915,0.5102040816326534,0.7142857142857144,0.9183673469387754,1.1224489795918373,1.3265306122448983,1.5306122448979593,1.7346938775510203,1.9387755102040813,2.1428571428571432,2.3469387755102042,2.5510204081632653,2.755102040816327,2.959183673469388,3.163265306122449,3.36734693877551,3.571428571428571,3.775510204081632,3.979591836734695,4.183673469387756,4.387755102040817,4.591836734693878,4.795918367346939,5.0],\"type\":\"scatter\",\"xaxis\":\"x4\",\"yaxis\":\"y4\"},{\"x\":[-5.0,-4.795918367346939,-4.591836734693878,-4.387755102040816,-4.183673469387755,-3.979591836734694,-3.7755102040816326,-3.571428571428571,-3.36734693877551,-3.163265306122449,-2.9591836734693877,-2.7551020408163263,-2.5510204081632653,-2.3469387755102042,-2.142857142857143,-1.9387755102040813,-1.7346938775510203,-1.5306122448979593,-1.3265306122448979,-1.1224489795918364,-0.9183673469387754,-0.7142857142857144,-0.5102040816326525,-0.3061224489795915,-0.1020408163265305,0.1020408163265305,0.3061224489795915,0.5102040816326534,0.7142857142857144,0.9183673469387754,1.1224489795918373,1.3265306122448983,1.5306122448979593,1.7346938775510203,1.9387755102040813,2.1428571428571432,2.3469387755102042,2.5510204081632653,2.755102040816327,2.959183673469388,3.163265306122449,3.36734693877551,3.571428571428571,3.775510204081632,3.979591836734695,4.183673469387756,4.387755102040817,4.591836734693878,4.795918367346939,5.0],\"y\":[-4.966310265004573,-4.9586829675033615,-4.949328863092571,-4.93785700568645,-4.923787939684302,-4.906533661570005,-4.885373044852443,-4.85942170125514,-4.827595018531553,-4.788562830105934,-4.7406938219996055,-4.6819873535818655,-4.609989842657312,-4.521692220282109,-4.4134041695287465,-4.280599892125506,-4.117728956930945,-3.9179843248314334,-3.673017854878351,-3.37259140150874,-3.0041489207825816,-2.5522917022152347,-1.9981347940079763,-1.3185177240683155,-0.485036529639849,0.1020408163265305,0.3061224489795915,0.5102040816326534,0.7142857142857144,0.9183673469387754,1.1224489795918373,1.3265306122448983,1.5306122448979593,1.7346938775510203,1.9387755102040813,2.1428571428571432,2.3469387755102042,2.5510204081632653,2.755102040816327,2.959183673469388,3.163265306122449,3.36734693877551,3.571428571428571,3.775510204081632,3.979591836734695,4.183673469387756,4.387755102040817,4.591836734693878,4.795918367346939,5.0],\"type\":\"scatter\",\"xaxis\":\"x5\",\"yaxis\":\"y5\"},{\"x\":[-5.0,-4.795918367346939,-4.591836734693878,-4.387755102040816,-4.183673469387755,-3.979591836734694,-3.7755102040816326,-3.571428571428571,-3.36734693877551,-3.163265306122449,-2.9591836734693877,-2.7551020408163263,-2.5510204081632653,-2.3469387755102042,-2.142857142857143,-1.9387755102040813,-1.7346938775510203,-1.5306122448979593,-1.3265306122448979,-1.1224489795918364,-0.9183673469387754,-0.7142857142857144,-0.5102040816326525,-0.3061224489795915,-0.1020408163265305,0.1020408163265305,0.3061224489795915,0.5102040816326534,0.7142857142857144,0.9183673469387754,1.1224489795918373,1.3265306122448983,1.5306122448979593,1.7346938775510203,1.9387755102040813,2.1428571428571432,2.3469387755102042,2.5510204081632653,2.755102040816327,2.959183673469388,3.163265306122449,3.36734693877551,3.571428571428571,3.775510204081632,3.979591836734695,4.183673469387756,4.387755102040817,4.591836734693878,4.795918367346939,5.0],\"y\":[-0.03346425462142428,-0.03930582301362764,-0.04606785544597978,-0.053864191640115563,-0.06281187054473344,-0.0730264720940795,-0.08461521096604085,-0.09766709570065317,-0.11223935261399579,-0.12833923582814905,-0.1459003492852851,-0.1647527656298682,-0.18458664116185416,-0.20490982251930331,-0.22500125361485318,-0.24386391664834514,-0.2601835524998055,-0.27230223170028905,-0.2782183349076645,-0.27562554709111237,-0.2620016406511086,-0.2347518189409072,-0.19140085982219437,-0.12981474065869947,-0.04841958244350218,0.05362123388302832,0.17630770832089204,0.31880322181045884,0.4795338953448072,0.6563657062876668,0.8468234325007249,1.0483122773372338,1.25831001319767,1.4745103250512146,1.6949115935557364,1.9178558892422901,2.1420289529909007,2.366433767001411,2.5903492751864587,2.8132833241841033,3.0349260702943,3.255107586161514,3.473761475727918,3.690894993115591,3.9065653646406155,4.120861598843023,4.333890910400702,4.545768879247898,4.756612544333311,4.966535745378576],\"type\":\"scatter\",\"xaxis\":\"x6\",\"yaxis\":\"y6\"}],                        {\"template\":{\"data\":{\"histogram2dcontour\":[{\"type\":\"histogram2dcontour\",\"colorbar\":{\"outlinewidth\":0,\"ticks\":\"\"},\"colorscale\":[[0.0,\"#0d0887\"],[0.1111111111111111,\"#46039f\"],[0.2222222222222222,\"#7201a8\"],[0.3333333333333333,\"#9c179e\"],[0.4444444444444444,\"#bd3786\"],[0.5555555555555556,\"#d8576b\"],[0.6666666666666666,\"#ed7953\"],[0.7777777777777778,\"#fb9f3a\"],[0.8888888888888888,\"#fdca26\"],[1.0,\"#f0f921\"]]}],\"choropleth\":[{\"type\":\"choropleth\",\"colorbar\":{\"outlinewidth\":0,\"ticks\":\"\"}}],\"histogram2d\":[{\"type\":\"histogram2d\",\"colorbar\":{\"outlinewidth\":0,\"ticks\":\"\"},\"colorscale\":[[0.0,\"#0d0887\"],[0.1111111111111111,\"#46039f\"],[0.2222222222222222,\"#7201a8\"],[0.3333333333333333,\"#9c179e\"],[0.4444444444444444,\"#bd3786\"],[0.5555555555555556,\"#d8576b\"],[0.6666666666666666,\"#ed7953\"],[0.7777777777777778,\"#fb9f3a\"],[0.8888888888888888,\"#fdca26\"],[1.0,\"#f0f921\"]]}],\"heatmap\":[{\"type\":\"heatmap\",\"colorbar\":{\"outlinewidth\":0,\"ticks\":\"\"},\"colorscale\":[[0.0,\"#0d0887\"],[0.1111111111111111,\"#46039f\"],[0.2222222222222222,\"#7201a8\"],[0.3333333333333333,\"#9c179e\"],[0.4444444444444444,\"#bd3786\"],[0.5555555555555556,\"#d8576b\"],[0.6666666666666666,\"#ed7953\"],[0.7777777777777778,\"#fb9f3a\"],[0.8888888888888888,\"#fdca26\"],[1.0,\"#f0f921\"]]}],\"heatmapgl\":[{\"type\":\"heatmapgl\",\"colorbar\":{\"outlinewidth\":0,\"ticks\":\"\"},\"colorscale\":[[0.0,\"#0d0887\"],[0.1111111111111111,\"#46039f\"],[0.2222222222222222,\"#7201a8\"],[0.3333333333333333,\"#9c179e\"],[0.4444444444444444,\"#bd3786\"],[0.5555555555555556,\"#d8576b\"],[0.6666666666666666,\"#ed7953\"],[0.7777777777777778,\"#fb9f3a\"],[0.8888888888888888,\"#fdca26\"],[1.0,\"#f0f921\"]]}],\"contourcarpet\":[{\"type\":\"contourcarpet\",\"colorbar\":{\"outlinewidth\":0,\"ticks\":\"\"}}],\"contour\":[{\"type\":\"contour\",\"colorbar\":{\"outlinewidth\":0,\"ticks\":\"\"},\"colorscale\":[[0.0,\"#0d0887\"],[0.1111111111111111,\"#46039f\"],[0.2222222222222222,\"#7201a8\"],[0.3333333333333333,\"#9c179e\"],[0.4444444444444444,\"#bd3786\"],[0.5555555555555556,\"#d8576b\"],[0.6666666666666666,\"#ed7953\"],[0.7777777777777778,\"#fb9f3a\"],[0.8888888888888888,\"#fdca26\"],[1.0,\"#f0f921\"]]}],\"surface\":[{\"type\":\"surface\",\"colorbar\":{\"outlinewidth\":0,\"ticks\":\"\"},\"colorscale\":[[0.0,\"#0d0887\"],[0.1111111111111111,\"#46039f\"],[0.2222222222222222,\"#7201a8\"],[0.3333333333333333,\"#9c179e\"],[0.4444444444444444,\"#bd3786\"],[0.5555555555555556,\"#d8576b\"],[0.6666666666666666,\"#ed7953\"],[0.7777777777777778,\"#fb9f3a\"],[0.8888888888888888,\"#fdca26\"],[1.0,\"#f0f921\"]]}],\"mesh3d\":[{\"type\":\"mesh3d\",\"colorbar\":{\"outlinewidth\":0,\"ticks\":\"\"}}],\"scatter\":[{\"fillpattern\":{\"fillmode\":\"overlay\",\"size\":10,\"solidity\":0.2},\"type\":\"scatter\"}],\"parcoords\":[{\"type\":\"parcoords\",\"line\":{\"colorbar\":{\"outlinewidth\":0,\"ticks\":\"\"}}}],\"scatterpolargl\":[{\"type\":\"scatterpolargl\",\"marker\":{\"colorbar\":{\"outlinewidth\":0,\"ticks\":\"\"}}}],\"bar\":[{\"error_x\":{\"color\":\"#2a3f5f\"},\"error_y\":{\"color\":\"#2a3f5f\"},\"marker\":{\"line\":{\"color\":\"#E5ECF6\",\"width\":0.5},\"pattern\":{\"fillmode\":\"overlay\",\"size\":10,\"solidity\":0.2}},\"type\":\"bar\"}],\"scattergeo\":[{\"type\":\"scattergeo\",\"marker\":{\"colorbar\":{\"outlinewidth\":0,\"ticks\":\"\"}}}],\"scatterpolar\":[{\"type\":\"scatterpolar\",\"marker\":{\"colorbar\":{\"outlinewidth\":0,\"ticks\":\"\"}}}],\"histogram\":[{\"marker\":{\"pattern\":{\"fillmode\":\"overlay\",\"size\":10,\"solidity\":0.2}},\"type\":\"histogram\"}],\"scattergl\":[{\"type\":\"scattergl\",\"marker\":{\"colorbar\":{\"outlinewidth\":0,\"ticks\":\"\"}}}],\"scatter3d\":[{\"type\":\"scatter3d\",\"line\":{\"colorbar\":{\"outlinewidth\":0,\"ticks\":\"\"}},\"marker\":{\"colorbar\":{\"outlinewidth\":0,\"ticks\":\"\"}}}],\"scattermapbox\":[{\"type\":\"scattermapbox\",\"marker\":{\"colorbar\":{\"outlinewidth\":0,\"ticks\":\"\"}}}],\"scatterternary\":[{\"type\":\"scatterternary\",\"marker\":{\"colorbar\":{\"outlinewidth\":0,\"ticks\":\"\"}}}],\"scattercarpet\":[{\"type\":\"scattercarpet\",\"marker\":{\"colorbar\":{\"outlinewidth\":0,\"ticks\":\"\"}}}],\"carpet\":[{\"aaxis\":{\"endlinecolor\":\"#2a3f5f\",\"gridcolor\":\"white\",\"linecolor\":\"white\",\"minorgridcolor\":\"white\",\"startlinecolor\":\"#2a3f5f\"},\"baxis\":{\"endlinecolor\":\"#2a3f5f\",\"gridcolor\":\"white\",\"linecolor\":\"white\",\"minorgridcolor\":\"white\",\"startlinecolor\":\"#2a3f5f\"},\"type\":\"carpet\"}],\"table\":[{\"cells\":{\"fill\":{\"color\":\"#EBF0F8\"},\"line\":{\"color\":\"white\"}},\"header\":{\"fill\":{\"color\":\"#C8D4E3\"},\"line\":{\"color\":\"white\"}},\"type\":\"table\"}],\"barpolar\":[{\"marker\":{\"line\":{\"color\":\"#E5ECF6\",\"width\":0.5},\"pattern\":{\"fillmode\":\"overlay\",\"size\":10,\"solidity\":0.2}},\"type\":\"barpolar\"}],\"pie\":[{\"automargin\":true,\"type\":\"pie\"}]},\"layout\":{\"autotypenumbers\":\"strict\",\"colorway\":[\"#636efa\",\"#EF553B\",\"#00cc96\",\"#ab63fa\",\"#FFA15A\",\"#19d3f3\",\"#FF6692\",\"#B6E880\",\"#FF97FF\",\"#FECB52\"],\"font\":{\"color\":\"#2a3f5f\"},\"hovermode\":\"closest\",\"hoverlabel\":{\"align\":\"left\"},\"paper_bgcolor\":\"white\",\"plot_bgcolor\":\"#E5ECF6\",\"polar\":{\"bgcolor\":\"#E5ECF6\",\"angularaxis\":{\"gridcolor\":\"white\",\"linecolor\":\"white\",\"ticks\":\"\"},\"radialaxis\":{\"gridcolor\":\"white\",\"linecolor\":\"white\",\"ticks\":\"\"}},\"ternary\":{\"bgcolor\":\"#E5ECF6\",\"aaxis\":{\"gridcolor\":\"white\",\"linecolor\":\"white\",\"ticks\":\"\"},\"baxis\":{\"gridcolor\":\"white\",\"linecolor\":\"white\",\"ticks\":\"\"},\"caxis\":{\"gridcolor\":\"white\",\"linecolor\":\"white\",\"ticks\":\"\"}},\"coloraxis\":{\"colorbar\":{\"outlinewidth\":0,\"ticks\":\"\"}},\"colorscale\":{\"sequential\":[[0.0,\"#0d0887\"],[0.1111111111111111,\"#46039f\"],[0.2222222222222222,\"#7201a8\"],[0.3333333333333333,\"#9c179e\"],[0.4444444444444444,\"#bd3786\"],[0.5555555555555556,\"#d8576b\"],[0.6666666666666666,\"#ed7953\"],[0.7777777777777778,\"#fb9f3a\"],[0.8888888888888888,\"#fdca26\"],[1.0,\"#f0f921\"]],\"sequentialminus\":[[0.0,\"#0d0887\"],[0.1111111111111111,\"#46039f\"],[0.2222222222222222,\"#7201a8\"],[0.3333333333333333,\"#9c179e\"],[0.4444444444444444,\"#bd3786\"],[0.5555555555555556,\"#d8576b\"],[0.6666666666666666,\"#ed7953\"],[0.7777777777777778,\"#fb9f3a\"],[0.8888888888888888,\"#fdca26\"],[1.0,\"#f0f921\"]],\"diverging\":[[0,\"#8e0152\"],[0.1,\"#c51b7d\"],[0.2,\"#de77ae\"],[0.3,\"#f1b6da\"],[0.4,\"#fde0ef\"],[0.5,\"#f7f7f7\"],[0.6,\"#e6f5d0\"],[0.7,\"#b8e186\"],[0.8,\"#7fbc41\"],[0.9,\"#4d9221\"],[1,\"#276419\"]]},\"xaxis\":{\"gridcolor\":\"white\",\"linecolor\":\"white\",\"ticks\":\"\",\"title\":{\"standoff\":15},\"zerolinecolor\":\"white\",\"automargin\":true,\"zerolinewidth\":2},\"yaxis\":{\"gridcolor\":\"white\",\"linecolor\":\"white\",\"ticks\":\"\",\"title\":{\"standoff\":15},\"zerolinecolor\":\"white\",\"automargin\":true,\"zerolinewidth\":2},\"scene\":{\"xaxis\":{\"backgroundcolor\":\"#E5ECF6\",\"gridcolor\":\"white\",\"linecolor\":\"white\",\"showbackground\":true,\"ticks\":\"\",\"zerolinecolor\":\"white\",\"gridwidth\":2},\"yaxis\":{\"backgroundcolor\":\"#E5ECF6\",\"gridcolor\":\"white\",\"linecolor\":\"white\",\"showbackground\":true,\"ticks\":\"\",\"zerolinecolor\":\"white\",\"gridwidth\":2},\"zaxis\":{\"backgroundcolor\":\"#E5ECF6\",\"gridcolor\":\"white\",\"linecolor\":\"white\",\"showbackground\":true,\"ticks\":\"\",\"zerolinecolor\":\"white\",\"gridwidth\":2}},\"shapedefaults\":{\"line\":{\"color\":\"#2a3f5f\"}},\"annotationdefaults\":{\"arrowcolor\":\"#2a3f5f\",\"arrowhead\":0,\"arrowwidth\":1},\"geo\":{\"bgcolor\":\"white\",\"landcolor\":\"#E5ECF6\",\"subunitcolor\":\"white\",\"showland\":true,\"showlakes\":true,\"lakecolor\":\"white\"},\"title\":{\"x\":0.05},\"mapbox\":{\"style\":\"light\"}}},\"xaxis\":{\"anchor\":\"y\",\"domain\":[0.0,0.45]},\"yaxis\":{\"anchor\":\"x\",\"domain\":[0.7777777777777778,1.0]},\"xaxis2\":{\"anchor\":\"y2\",\"domain\":[0.55,1.0]},\"yaxis2\":{\"anchor\":\"x2\",\"domain\":[0.7777777777777778,1.0]},\"xaxis3\":{\"anchor\":\"y3\",\"domain\":[0.0,0.45]},\"yaxis3\":{\"anchor\":\"x3\",\"domain\":[0.3888888888888889,0.6111111111111112]},\"xaxis4\":{\"anchor\":\"y4\",\"domain\":[0.55,1.0]},\"yaxis4\":{\"anchor\":\"x4\",\"domain\":[0.3888888888888889,0.6111111111111112]},\"xaxis5\":{\"anchor\":\"y5\",\"domain\":[0.0,0.45]},\"yaxis5\":{\"anchor\":\"x5\",\"domain\":[0.0,0.22222222222222224]},\"xaxis6\":{\"anchor\":\"y6\",\"domain\":[0.55,1.0]},\"yaxis6\":{\"anchor\":\"x6\",\"domain\":[0.0,0.22222222222222224]},\"annotations\":[{\"font\":{\"size\":16},\"showarrow\":false,\"text\":\"Sigmoid\",\"x\":0.225,\"xanchor\":\"center\",\"xref\":\"paper\",\"y\":1.0,\"yanchor\":\"bottom\",\"yref\":\"paper\"},{\"font\":{\"size\":16},\"showarrow\":false,\"text\":\"tanh\",\"x\":0.775,\"xanchor\":\"center\",\"xref\":\"paper\",\"y\":1.0,\"yanchor\":\"bottom\",\"yref\":\"paper\"},{\"font\":{\"size\":16},\"showarrow\":false,\"text\":\"ReLU\",\"x\":0.225,\"xanchor\":\"center\",\"xref\":\"paper\",\"y\":0.6111111111111112,\"yanchor\":\"bottom\",\"yref\":\"paper\"},{\"font\":{\"size\":16},\"showarrow\":false,\"text\":\"Leaky ReLU\",\"x\":0.775,\"xanchor\":\"center\",\"xref\":\"paper\",\"y\":0.6111111111111112,\"yanchor\":\"bottom\",\"yref\":\"paper\"},{\"font\":{\"size\":16},\"showarrow\":false,\"text\":\"ELU\",\"x\":0.225,\"xanchor\":\"center\",\"xref\":\"paper\",\"y\":0.22222222222222224,\"yanchor\":\"bottom\",\"yref\":\"paper\"},{\"font\":{\"size\":16},\"showarrow\":false,\"text\":\"swish\",\"x\":0.775,\"xanchor\":\"center\",\"xref\":\"paper\",\"y\":0.22222222222222224,\"yanchor\":\"bottom\",\"yref\":\"paper\"}],\"showlegend\":false},                        {\"responsive\": true}                    ).then(function(){\n",
       "                            \n",
       "var gd = document.getElementById('1d771e4e-7b24-4d6e-9d6f-40d5fcbea4df');\n",
       "var x = new MutationObserver(function (mutations, observer) {{\n",
       "        var display = window.getComputedStyle(gd).display;\n",
       "        if (!display || display === 'none') {{\n",
       "            console.log([gd, 'removed!']);\n",
       "            Plotly.purge(gd);\n",
       "            observer.disconnect();\n",
       "        }}\n",
       "}});\n",
       "\n",
       "// Listen for the removal of the full notebook cells\n",
       "var notebookContainer = gd.closest('#notebook-container');\n",
       "if (notebookContainer) {{\n",
       "    x.observe(notebookContainer, {childList: true});\n",
       "}}\n",
       "\n",
       "// Listen for the clearing of the current output cell\n",
       "var outputEl = gd.closest('.output');\n",
       "if (outputEl) {{\n",
       "    x.observe(outputEl, {childList: true});\n",
       "}}\n",
       "\n",
       "                        })                };                });            </script>        </div>"
      ]
     },
     "metadata": {},
     "output_type": "display_data"
    }
   ],
   "source": [
    "#| code-fold: true\n",
    "import numpy as np\n",
    "import plotly.express as px\n",
    "import plotly.graph_objects as go\n",
    "import plotly.io as pio\n",
    "from plotly.subplots import make_subplots\n",
    "pio.renderers.default = \"plotly_mimetype+notebook_connected\" # this is reqired only to render html not for notebook\n",
    "\n",
    "fig = make_subplots(rows=3, cols=2,subplot_titles=(\"Sigmoid\", \"tanh\", \"ReLU\", \"Leaky ReLU\", \"ELU\",\"swish\"))\n",
    "x = np.linspace(-5,5,50)\n",
    "sigmoid = 1/(1+np.exp(-x))\n",
    "fig.append_trace(go.Line(x=x,y=1/(1+np.exp(-x))),row=1,col=1)\n",
    "fig.append_trace(go.Line(x=x,y=np.tanh(x)),row=1,col=2)\n",
    "fig.append_trace(go.Line(x=x,y=np.where(x>0,x,0)),row=2,col=1)\n",
    "fig.append_trace(go.Line(x=x,y=np.where(x>0,x,0.1*x)),row=2,col=2)\n",
    "fig.append_trace(go.Line(x=x,y=np.where(x>0,x,5*(np.exp(x)-1))),row=3,col=1)\n",
    "fig.append_trace(go.Line(x=x,y=x/(1+np.exp(-x))),row=3,col=2)\n",
    "fig.update(layout_showlegend=False)\n",
    "fig.show()\n"
   ]
  },
  {
   "attachments": {},
   "cell_type": "markdown",
   "metadata": {},
   "source": [
    "## Loss Functions"
   ]
  },
  {
   "attachments": {},
   "cell_type": "markdown",
   "metadata": {},
   "source": [
    "- Cross-Entropy Loss Function\n",
    "    - Formula\n",
    "      $$J=-\\frac{1}{m}\\sum_{i=1}^{m}y_{i}\\log\\hat{y_{i}}+(1-y_{i})\\log(1-\\hat{y_{i}})$$\n",
    "    - If the activation function is sigmoid $\\left(\\sigma(z)=\\,\\frac{1}{1+e^{-z}}\\right)$ the darivative of cross-entropy is:<br>\n",
    "    so,  \n",
    "      $$\\hat y=\\sigma(w^Tz) \\text{ and } \\sigma(z)=\\frac{1}{1+e^{-z}}$$\n",
    "      so we can simplify  it as below considering just one record\n",
    "      $$J = -\\frac{1}{m}\\sum_{i=1}^{m} \\left(y\\log(\\sigma(z))+(1-y)\\log(1-\\sigma(z))\\right)$$ \n",
    "      Now we find derivative \n",
    "      $$\\begin{align*}\n",
    "      \\frac{\\partial J}{\\partial w_j} &= -\\frac{1}{m}\\sum_{i=1}^{m} \\left(y \\frac{1}{\\sigma(z)}\\sigma(z)'x_j+(1-y) \\left( \\frac{1}{1-\\sigma(z)}\\right) (-\\sigma(z)'x_j)\\right) \\\\\n",
    "      &=-\\frac{1}{m}\\sum_{i=1}^{m}\\left(  \\frac{y}{\\sigma(z)}-  \\frac{1-y}{1-\\sigma(z)}\\right) \\sigma(z)'x_j \\\\\n",
    "      &= -\\frac{1}{m}\\sum_{i=1}^{m}\\frac{y(1-\\sigma(z))-\\sigma(z)(1-y)}{\\sigma(z)(1-\\sigma(z))}\\sigma(z)'x_j  \\\\\n",
    "      &= -\\frac{1}{m}\\sum_{i=1}^{m}\\frac{y-y*\\sigma(z)-\\sigma(z)+\\sigma(z)*y}{\\sigma(z)(1-\\sigma(z))}\\sigma(z)'x_j  \\\\\n",
    "      &= -\\frac{1}{m}\\sum_{i=1}^{m}\\frac{y-\\sigma(z)}{\\sigma(z)(1-\\sigma(z))}\\sigma(z)(1-\\sigma(z))*x_j  \\\\\n",
    "      &=-\\frac{1}{m}\\sum_{i=1}^{m}(y-\\sigma(z))*x_j\\\\\n",
    "      &=\\frac{1}{m}\\sum_{i=1}^{m}(\\sigma(z)-y)*x_j\n",
    "      \\end{align*}$$\n",
    "    - Even if we consider softmax as activation function\n",
    "      $$\\left(a_{j}^{L}=\\frac{e^{z_{j}^{L}}}{\\sum_{k}e^{z_{k}^{L}}}\\right)$$ \n",
    "      we get similar derivative \n",
    "      $$\\frac{\\partial J}{\\partial w_{j k}^{L}}=\\overbrace{\\boxed{a_{k}^{L-1}(a_{j}^{L}-y_{j})}}^{\\text{similar to cross entropy}}  $$"
   ]
  },
  {
   "attachments": {},
   "cell_type": "markdown",
   "metadata": {},
   "source": [
    "## Torch Loss function \n",
    "\n",
    "- Classification\n",
    "    - BCECriterion: binary cross-entropy for Sigmoid (two-class version)\n",
    "    - ClassNLLCriterion: negative log-likelihood (multi-class)\n",
    "    - MarginCriterion: two class margin-based loss\n",
    "- Regression\n",
    "    - AbsCriterion: measures the mean absolute value of the element wise difference between input\n",
    "    - MSECriterion: mean square error (a classic)\n",
    "    - DistKLDivCriterion: Kullback–Leibler divergence (for fitting continuous probability distributions)\n",
    "- Embedding (measuring whether two inputs are similar or dissimilar)\n",
    "    - L1HingeEmbeddingCriterion: L1 distance between two inputs\n",
    "    - CosineEmbeddingCriterion: cosine distance between two inputs"
   ]
  },
  {
   "attachments": {},
   "cell_type": "markdown",
   "metadata": {},
   "source": [
    "## Some more facts"
   ]
  },
  {
   "attachments": {},
   "cell_type": "markdown",
   "metadata": {},
   "source": [
    "::: {.callout-important}\n",
    "A multilayer network of perceptrons with a single hidden layer can be used to represent any boolean function precisely (no errors), in fact for $n$ inputs, it needs ${2}^n$ perceptron on hidden layer and one perceptron on  output layer to represent any boolean function. \n",
    ":::"
   ]
  },
  {
   "attachments": {},
   "cell_type": "markdown",
   "metadata": {},
   "source": [
    "::: {.callout-important}\n",
    "A multilayer network of neurons with a single hidden layer can be used to approximate any continuous function to any desired precision.<br>\n",
    "In other words, there is a guarantee that for any function $f(x): \\mathbb{R}^n \\rightarrow \\mathbb{R}^m$, we can always find a neural network (with $1$  hidden layer containing enough neurons) whose output $g(x)$ satisfies $| g(x)-f(x)| < \\epsilon$\n",
    ":::"
   ]
  },
  {
   "cell_type": "markdown",
   "metadata": {},
   "source": [
    "<br><br><br>\n",
    "$\\tiny  {\\textcolor{#808080}{\\boxed{\\text{Reference: Dr. Vineeth, IIT Hyderabad }}}}$"
   ]
  }
 ],
 "metadata": {
  "kernelspec": {
   "display_name": "base",
   "language": "python",
   "name": "python3"
  },
  "language_info": {
   "codemirror_mode": {
    "name": "ipython",
    "version": 3
   },
   "file_extension": ".py",
   "mimetype": "text/x-python",
   "name": "python",
   "nbconvert_exporter": "python",
   "pygments_lexer": "ipython3",
   "version": "3.9.13 (main, Aug 25 2022, 23:26:10) \n[GCC 11.2.0]"
  },
  "orig_nbformat": 4,
  "vscode": {
   "interpreter": {
    "hash": "e0e5e69b8442e8f020791fad6bfcef3777f0e89e0f1a2517b6b628b2eaf0fe66"
   }
  }
 },
 "nbformat": 4,
 "nbformat_minor": 2
}
