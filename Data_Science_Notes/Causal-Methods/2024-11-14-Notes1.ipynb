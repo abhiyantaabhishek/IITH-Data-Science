{
 "cells": [
  {
   "cell_type": "raw",
   "metadata": {
    "vscode": {
     "languageId": "raw"
    }
   },
   "source": [
    "---\n",
    "author: Abhishek Kumar Dubey\n",
    "badges: false\n",
    "categories:\n",
    "- Causal\n",
    "date: '2024-11-14'\n",
    "description: Introduction\n",
    "image: CS6140_images/Acrobat_KZXurX42ch.png\n",
    "title: Causal Method 1\n",
    "toc: true\n",
    "\n",
    "---\n",
    "\n"
   ]
  },
  {
   "attachments": {},
   "cell_type": "markdown",
   "metadata": {},
   "source": [
    "## Motivating Example: Simpson's Paradox\n",
    "\n",
    "- **Correlation does not imply causation**\n",
    "- **Then, what does imply causation?**\n",
    "- **Causation in observational studies**\n",
    "\n",
    "\n"
   ]
  },
  {
   "cell_type": "markdown",
   "metadata": {
    "vscode": {
     "languageId": "raw"
    }
   },
   "source": [
    "### Simpson's Paradox: COVID-27\n",
    "\n",
    "- **New disease**: COVID-27\n",
    "- **Treatment T**: A (0) and B (1), B is scarce.\n",
    "- **Condition C**: mild (0) or severe (1)\n",
    "- **Outcome Y**: alive (0) or dead (1)\n",
    "\n",
    "\n",
    "### Simpson's Paradox: Mortality Rate Table\n",
    "\n",
    "| Treatment | Total   | Mortality Rate |\n",
    "|-----------|---------|----------------|\n",
    "| A         | 16%     | (240/1500)     |\n",
    "| B         | 19%     | (105/550)      |\n",
    "\n",
    "E[Y | T]\n",
    "\n",
    "\n",
    "\n",
    "| Treatment | Mild       | Severe     | Total       |\n",
    "|-----------|------------|------------|-------------|\n",
    "| A         | 15% (210/1400) | 30% (30/100)  | 16% (240/1500) |\n",
    "| B         | 10% (5/50)     | 20% (100/500) | 19% (105/550)  |\n",
    "\n",
    "- **E[Y | T, C = 0]**: Expected outcome for mild condition\n",
    "- **E[Y | T, C = 1]**: Expected outcome for severe condition\n",
    "- **E[Y | T]**: Expected outcome overall\n",
    "\n",
    "\n",
    "$$\n",
    "\\frac{1400}{1500} (0.15) + \\frac{100}{1500} (0.30) = 0.16\n",
    "$$\n",
    "\n",
    "$$\n",
    "\\frac{50}{550} (0.10) + \\frac{500}{550} (0.20) = 0.19\n",
    "$$\n",
    "\n",
    "\n",
    "### Situation 1:\n",
    "\n",
    "Condition is a cause of treatment \n",
    "\n",
    "Here Treatment B is better choise\n",
    "\n",
    "If someone comde with Milde condition, doctor will assign them to A as B is scarce, And B will assinged to those who are likely to die\n",
    "\n",
    "\n",
    "\n",
    "\n",
    "- **C** (Condition)\n",
    "- **T** (Treatment)\n",
    "- **Y** (Outcome)\n",
    "\n",
    "- **C → T**: The condition influences the treatment.\n",
    "- **C → Y**: The condition also affects the outcome.\n",
    "- **T → Y**: The treatment directly impacts the outcome.\n",
    "\n",
    "\n",
    "Sutation 2:\n",
    "\n",
    "Treatment is cause of condition\n",
    "Here Treatment A is preffered\n",
    "\n",
    "Supose treatment B has waiting time, so when someone comes with a mild condition they need to wait Until they get assigned to a doctor and while waiting they transition to the severe situation. But in case of treatment A there is no waiting time so as soon as a person comes with the mild condition they are immediately assigned to a doctor.\n",
    "\n",
    "\n",
    "\n",
    "- **T** (Treatment)\n",
    "- **C** (Condition)\n",
    "- **Y** (Outcome)\n",
    "\n",
    "\n",
    "- **T → C**: The treatment influences the condition.\n",
    "- **C → Y**: The condition affects the outcome.\n",
    "- **T → Y**: The treatment directly impacts the outcome.\n"
   ]
  },
  {
   "cell_type": "markdown",
   "metadata": {},
   "source": [
    "## Correlation Does Not Imply Causation\n",
    "\n",
    "- **Key Idea**: Correlation or association does not necessarily indicate a causal relationship between two variables.\n",
    "  \n",
    "### Example: Shoe Sleeping and Headaches\n",
    "- Observed: People who sleep with shoes on often wake up with headaches.\n",
    "- **Key Insight**: A common cause (drinking heavily the night before) explains the association.\n",
    "- **Confounding**:\n",
    "  - Drinking influences both sleeping with shoes on and waking up with headaches.\n",
    "  - Groups (shoe sleepers vs. non-shoe sleepers) differ significantly in behavior, making causal inference unreliable.\n",
    "\n",
    "### Association vs. Causation\n",
    "- **Association**: A mixture of:\n",
    "  - **Causal association**: A direct link (e.g., treatment → outcome).\n",
    "  - **Confounding association**: Driven by a common cause.\n",
    "- **Correlation**: A statistical measure of association but not necessarily causal.\n",
    "- Total observed association = causal + confounding effects.\n",
    "\n",
    "---\n",
    "\n",
    "## Cognitive Bias: Correlation Equals Causation\n",
    "- Many people instinctively use correlation as evidence for causation.\n",
    "- Example: Associating caffeine or other recent events with a headache due to:\n",
    "  - **Availability heuristic**: Using the most readily available information in your mind.\n",
    "  - **Motivated reasoning**: Justifying a worldview or decision, e.g., avoiding disliked activities like spending time with in-laws.\n",
    "\n",
    "---\n",
    "\n",
    "## Humorous Example: Nicolas Cage and Pool Drownings\n",
    "- Data shows a correlation between the number of Nicolas Cage films and pool drownings.\n",
    "- **Takeaway**:\n",
    "  - This association is purely coincidental and does not indicate causation.\n",
    "  - Highlights the pitfalls of inferring causation from spurious correlations.\n"
   ]
  }
 ],
 "metadata": {
  "kernelspec": {
   "display_name": "base",
   "language": "python",
   "name": "python3"
  },
  "language_info": {
   "codemirror_mode": {
    "name": "ipython",
    "version": 3
   },
   "file_extension": ".py",
   "mimetype": "text/x-python",
   "name": "python",
   "nbconvert_exporter": "python",
   "pygments_lexer": "ipython3",
   "version": "3.9.13 (main, Aug 25 2022, 23:26:10) \n[GCC 11.2.0]"
  },
  "orig_nbformat": 4,
  "vscode": {
   "interpreter": {
    "hash": "e0e5e69b8442e8f020791fad6bfcef3777f0e89e0f1a2517b6b628b2eaf0fe66"
   }
  }
 },
 "nbformat": 4,
 "nbformat_minor": 2
}
