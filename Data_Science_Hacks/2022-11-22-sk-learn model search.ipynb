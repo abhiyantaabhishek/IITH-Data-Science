{
  "cells": [
    {
      "cell_type": "raw",
      "metadata": {},
      "source": [
        "---\n",
        "author: Abhishek Kumar Dubey\n",
        "badges: True\n",
        "categories:\n",
        "- sk-learn\n",
        "date: '2022-08-26'\n",
        "description: Train multiple sk-learn models\n",
        "title: sk-learn model search\n",
        "toc: true\n",
        "---\n"
      ]
    },
    {
      "cell_type": "markdown",
      "metadata": {},
      "source": [
        "## Import Libraries"
      ]
    },
    {
      "cell_type": "code",
      "execution_count": 110,
      "metadata": {
        "execution": {
          "iopub.execute_input": "2022-11-06T15:25:34.732117Z",
          "iopub.status.busy": "2022-11-06T15:25:34.731681Z",
          "iopub.status.idle": "2022-11-06T15:25:34.737643Z",
          "shell.execute_reply": "2022-11-06T15:25:34.736882Z",
          "shell.execute_reply.started": "2022-11-06T15:25:34.732083Z"
        },
        "id": "UKufY4W5jmGh",
        "trusted": true
      },
      "outputs": [],
      "source": [
        "import pandas as pd\n",
        "import numpy as np\n",
        "from sklearn.preprocessing import OneHotEncoder, LabelEncoder, StandardScaler\n",
        "import seaborn as sns\n",
        "import matplotlib.pyplot as plt\n",
        "import time\n",
        "\n",
        "#Common Model Algorithms\n",
        "from sklearn import svm, tree, linear_model, neighbors, naive_bayes, ensemble, discriminant_analysis, gaussian_process\n",
        "from xgboost import XGBClassifier\n",
        "\n",
        "#Common Model Helpers\n",
        "from sklearn.preprocessing import OneHotEncoder, LabelEncoder\n",
        "from sklearn import feature_selection\n",
        "from sklearn import model_selection\n",
        "from sklearn import metrics"
      ]
    },
    {
      "cell_type": "markdown",
      "metadata": {},
      "source": [
        "## Read the data"
      ]
    },
    {
      "cell_type": "code",
      "execution_count": 112,
      "metadata": {
        "execution": {
          "iopub.execute_input": "2022-11-06T15:25:37.351747Z",
          "iopub.status.busy": "2022-11-06T15:25:37.351271Z",
          "iopub.status.idle": "2022-11-06T15:25:37.656322Z",
          "shell.execute_reply": "2022-11-06T15:25:37.655071Z",
          "shell.execute_reply.started": "2022-11-06T15:25:37.351714Z"
        },
        "id": "khyhM_eOjmGi",
        "trusted": true
      },
      "outputs": [],
      "source": [
        "my_training_data = pd.read_csv('train.csv')\n",
        "my_testing_data = pd.read_csv('test.csv')\n",
        "test_id = my_testing_data['ID']"
      ]
    },
    {
      "cell_type": "markdown",
      "metadata": {},
      "source": [
        "## Convert to onehot "
      ]
    },
    {
      "cell_type": "code",
      "execution_count": 113,
      "metadata": {
        "execution": {
          "iopub.execute_input": "2022-11-06T15:25:37.990992Z",
          "iopub.status.busy": "2022-11-06T15:25:37.990583Z",
          "iopub.status.idle": "2022-11-06T15:25:38.011823Z",
          "shell.execute_reply": "2022-11-06T15:25:38.010617Z",
          "shell.execute_reply.started": "2022-11-06T15:25:37.990952Z"
        },
        "id": "fsBn4a0pjmGj",
        "trusted": true
      },
      "outputs": [],
      "source": [
        "categorical_cols = ['Cat_1','Cat_2','Cat_3']\n",
        "my_training_data = pd.get_dummies(my_training_data, columns = categorical_cols)\n",
        "my_testing_data = pd.get_dummies(my_testing_data, columns = categorical_cols)"
      ]
    },
    {
      "cell_type": "markdown",
      "metadata": {},
      "source": [
        "## Fill missing values"
      ]
    },
    {
      "cell_type": "code",
      "execution_count": 114,
      "metadata": {
        "execution": {
          "iopub.execute_input": "2022-11-06T15:25:38.961190Z",
          "iopub.status.busy": "2022-11-06T15:25:38.960763Z",
          "iopub.status.idle": "2022-11-06T15:25:38.970986Z",
          "shell.execute_reply": "2022-11-06T15:25:38.969787Z",
          "shell.execute_reply.started": "2022-11-06T15:25:38.961151Z"
        },
        "id": "Ss-Pm6VEjmGj",
        "trusted": true
      },
      "outputs": [],
      "source": [
        "\n",
        "my_training_data['num_4'].fillna((my_training_data['num_4'].median()), inplace=True)\n",
        "my_training_data['num_5'].fillna((my_training_data['num_5'].median()), inplace=True)\n",
        "\n",
        "my_testing_data['num_4'].fillna((my_testing_data['num_4'].median()), inplace=True)\n",
        "my_testing_data['num_5'].fillna((my_testing_data['num_5'].median()), inplace=True)"
      ]
    },
    {
      "cell_type": "markdown",
      "metadata": {},
      "source": [
        "## Normalize"
      ]
    },
    {
      "cell_type": "code",
      "execution_count": 115,
      "metadata": {
        "execution": {
          "iopub.execute_input": "2022-11-06T15:25:42.205783Z",
          "iopub.status.busy": "2022-11-06T15:25:42.205409Z",
          "iopub.status.idle": "2022-11-06T15:25:42.225812Z",
          "shell.execute_reply": "2022-11-06T15:25:42.224557Z",
          "shell.execute_reply.started": "2022-11-06T15:25:42.205752Z"
        },
        "id": "svDQrVGOjmGj",
        "trusted": true
      },
      "outputs": [],
      "source": [
        "\n",
        "scaled_columns=['num_1','num_2','num_3','num_4','num_5','num_6']\n",
        "for column in scaled_columns:\n",
        "    my_training_data[column] = (my_training_data[column] - my_training_data[column].mean()) / my_training_data[column].std() \n",
        "    my_testing_data[column] = (my_testing_data[column] - my_testing_data[column].mean()) / my_testing_data[column].std() "
      ]
    },
    {
      "attachments": {},
      "cell_type": "markdown",
      "metadata": {},
      "source": [
        "## Remove unwanted features"
      ]
    },
    {
      "cell_type": "code",
      "execution_count": 117,
      "metadata": {
        "colab": {
          "base_uri": "https://localhost:8080/"
        },
        "execution": {
          "iopub.execute_input": "2022-11-06T15:19:04.298498Z",
          "iopub.status.busy": "2022-11-06T15:19:04.297665Z",
          "iopub.status.idle": "2022-11-06T15:19:04.310294Z",
          "shell.execute_reply": "2022-11-06T15:19:04.309020Z",
          "shell.execute_reply.started": "2022-11-06T15:19:04.298452Z"
        },
        "id": "E1pwui5JjmGj",
        "outputId": "a24bb4dd-5590-49fb-a7e4-287d671e0d97",
        "trusted": true
      },
      "outputs": [
        {
          "data": {
            "text/plain": [
              "['num_3',\n",
              " 'num_1',\n",
              " 'num_5',\n",
              " 'num_2',\n",
              " 'Cat_1_d1',\n",
              " 'Cat_1_d2',\n",
              " 'Cat_1_d4',\n",
              " 'Cat_1_d5',\n",
              " 'Cat_1_d6',\n",
              " 'Cat_2_d1',\n",
              " 'Cat_2_d2',\n",
              " 'Cat_2_d3']"
            ]
          },
          "execution_count": 117,
          "metadata": {},
          "output_type": "execute_result"
        }
      ],
      "source": [
        "\n",
        "Target =['target_class']\n",
        "column_to_train = list(my_training_data.columns)\n",
        "column_to_train.remove('target_class')\n",
        "column_to_train.remove('ID')\n",
        "column_to_train.remove('Cat_3_d1')\n",
        "column_to_train.remove('Cat_3_d2')\n",
        "column_to_train.remove('num_6')\n",
        "column_to_train.remove('num_4')\n",
        "column_to_train"
      ]
    },
    {
      "cell_type": "code",
      "execution_count": 42,
      "metadata": {
        "colab": {
          "base_uri": "https://localhost:8080/",
          "height": 288
        },
        "execution": {
          "iopub.execute_input": "2022-11-06T15:25:20.619491Z",
          "iopub.status.busy": "2022-11-06T15:25:20.619072Z",
          "iopub.status.idle": "2022-11-06T15:25:20.640596Z",
          "shell.execute_reply": "2022-11-06T15:25:20.639726Z",
          "shell.execute_reply.started": "2022-11-06T15:25:20.619456Z"
        },
        "id": "0OFd2SvDjmGk",
        "outputId": "4c241cd2-f7a2-437b-b9f4-4c43cb51f0b8",
        "trusted": true
      },
      "outputs": [
        {
          "data": {
            "text/html": [
              "\n",
              "  <div id=\"df-94baa021-d8d9-48a8-962a-514537d72eb9\">\n",
              "    <div class=\"colab-df-container\">\n",
              "      <div>\n",
              "<style scoped>\n",
              "    .dataframe tbody tr th:only-of-type {\n",
              "        vertical-align: middle;\n",
              "    }\n",
              "\n",
              "    .dataframe tbody tr th {\n",
              "        vertical-align: top;\n",
              "    }\n",
              "\n",
              "    .dataframe thead th {\n",
              "        text-align: right;\n",
              "    }\n",
              "</style>\n",
              "<table border=\"1\" class=\"dataframe\">\n",
              "  <thead>\n",
              "    <tr style=\"text-align: right;\">\n",
              "      <th></th>\n",
              "      <th>ID</th>\n",
              "      <th>num_3</th>\n",
              "      <th>num_4</th>\n",
              "      <th>num_1</th>\n",
              "      <th>num_5</th>\n",
              "      <th>num_6</th>\n",
              "      <th>num_2</th>\n",
              "      <th>target_class</th>\n",
              "      <th>Cat_1_d1</th>\n",
              "      <th>Cat_1_d2</th>\n",
              "      <th>Cat_1_d4</th>\n",
              "      <th>Cat_1_d5</th>\n",
              "      <th>Cat_1_d6</th>\n",
              "      <th>Cat_2_d1</th>\n",
              "      <th>Cat_2_d2</th>\n",
              "      <th>Cat_2_d3</th>\n",
              "      <th>Cat_3_d1</th>\n",
              "      <th>Cat_3_d2</th>\n",
              "    </tr>\n",
              "  </thead>\n",
              "  <tbody>\n",
              "    <tr>\n",
              "      <th>0</th>\n",
              "      <td>1</td>\n",
              "      <td>-0.036001</td>\n",
              "      <td>-0.823512</td>\n",
              "      <td>-0.687687</td>\n",
              "      <td>-0.341508</td>\n",
              "      <td>1.882562</td>\n",
              "      <td>-1.471565</td>\n",
              "      <td>1</td>\n",
              "      <td>1</td>\n",
              "      <td>0</td>\n",
              "      <td>0</td>\n",
              "      <td>0</td>\n",
              "      <td>0</td>\n",
              "      <td>1</td>\n",
              "      <td>0</td>\n",
              "      <td>0</td>\n",
              "      <td>1</td>\n",
              "      <td>0</td>\n",
              "    </tr>\n",
              "    <tr>\n",
              "      <th>1</th>\n",
              "      <td>2</td>\n",
              "      <td>-0.036001</td>\n",
              "      <td>1.626235</td>\n",
              "      <td>0.126056</td>\n",
              "      <td>-1.046135</td>\n",
              "      <td>2.806383</td>\n",
              "      <td>-0.338369</td>\n",
              "      <td>1</td>\n",
              "      <td>0</td>\n",
              "      <td>1</td>\n",
              "      <td>0</td>\n",
              "      <td>0</td>\n",
              "      <td>0</td>\n",
              "      <td>1</td>\n",
              "      <td>0</td>\n",
              "      <td>0</td>\n",
              "      <td>0</td>\n",
              "      <td>1</td>\n",
              "    </tr>\n",
              "    <tr>\n",
              "      <th>2</th>\n",
              "      <td>3</td>\n",
              "      <td>-1.793255</td>\n",
              "      <td>-0.823512</td>\n",
              "      <td>-0.562495</td>\n",
              "      <td>0.363119</td>\n",
              "      <td>2.128914</td>\n",
              "      <td>-0.163655</td>\n",
              "      <td>1</td>\n",
              "      <td>0</td>\n",
              "      <td>0</td>\n",
              "      <td>0</td>\n",
              "      <td>0</td>\n",
              "      <td>1</td>\n",
              "      <td>1</td>\n",
              "      <td>0</td>\n",
              "      <td>0</td>\n",
              "      <td>0</td>\n",
              "      <td>1</td>\n",
              "    </tr>\n",
              "    <tr>\n",
              "      <th>3</th>\n",
              "      <td>4</td>\n",
              "      <td>-0.914628</td>\n",
              "      <td>-0.006929</td>\n",
              "      <td>-0.708552</td>\n",
              "      <td>0.363119</td>\n",
              "      <td>-0.211433</td>\n",
              "      <td>-1.505775</td>\n",
              "      <td>1</td>\n",
              "      <td>0</td>\n",
              "      <td>0</td>\n",
              "      <td>1</td>\n",
              "      <td>0</td>\n",
              "      <td>0</td>\n",
              "      <td>1</td>\n",
              "      <td>0</td>\n",
              "      <td>0</td>\n",
              "      <td>0</td>\n",
              "      <td>1</td>\n",
              "    </tr>\n",
              "    <tr>\n",
              "      <th>4</th>\n",
              "      <td>5</td>\n",
              "      <td>-1.793255</td>\n",
              "      <td>-0.006929</td>\n",
              "      <td>-0.541630</td>\n",
              "      <td>-0.341508</td>\n",
              "      <td>2.005738</td>\n",
              "      <td>-0.707345</td>\n",
              "      <td>1</td>\n",
              "      <td>0</td>\n",
              "      <td>0</td>\n",
              "      <td>0</td>\n",
              "      <td>1</td>\n",
              "      <td>0</td>\n",
              "      <td>1</td>\n",
              "      <td>0</td>\n",
              "      <td>0</td>\n",
              "      <td>1</td>\n",
              "      <td>0</td>\n",
              "    </tr>\n",
              "  </tbody>\n",
              "</table>\n",
              "</div>\n",
              "      <button class=\"colab-df-convert\" onclick=\"convertToInteractive('df-94baa021-d8d9-48a8-962a-514537d72eb9')\"\n",
              "              title=\"Convert this dataframe to an interactive table.\"\n",
              "              style=\"display:none;\">\n",
              "        \n",
              "  <svg xmlns=\"http://www.w3.org/2000/svg\" height=\"24px\"viewBox=\"0 0 24 24\"\n",
              "       width=\"24px\">\n",
              "    <path d=\"M0 0h24v24H0V0z\" fill=\"none\"/>\n",
              "    <path d=\"M18.56 5.44l.94 2.06.94-2.06 2.06-.94-2.06-.94-.94-2.06-.94 2.06-2.06.94zm-11 1L8.5 8.5l.94-2.06 2.06-.94-2.06-.94L8.5 2.5l-.94 2.06-2.06.94zm10 10l.94 2.06.94-2.06 2.06-.94-2.06-.94-.94-2.06-.94 2.06-2.06.94z\"/><path d=\"M17.41 7.96l-1.37-1.37c-.4-.4-.92-.59-1.43-.59-.52 0-1.04.2-1.43.59L10.3 9.45l-7.72 7.72c-.78.78-.78 2.05 0 2.83L4 21.41c.39.39.9.59 1.41.59.51 0 1.02-.2 1.41-.59l7.78-7.78 2.81-2.81c.8-.78.8-2.07 0-2.86zM5.41 20L4 18.59l7.72-7.72 1.47 1.35L5.41 20z\"/>\n",
              "  </svg>\n",
              "      </button>\n",
              "      \n",
              "  <style>\n",
              "    .colab-df-container {\n",
              "      display:flex;\n",
              "      flex-wrap:wrap;\n",
              "      gap: 12px;\n",
              "    }\n",
              "\n",
              "    .colab-df-convert {\n",
              "      background-color: #E8F0FE;\n",
              "      border: none;\n",
              "      border-radius: 50%;\n",
              "      cursor: pointer;\n",
              "      display: none;\n",
              "      fill: #1967D2;\n",
              "      height: 32px;\n",
              "      padding: 0 0 0 0;\n",
              "      width: 32px;\n",
              "    }\n",
              "\n",
              "    .colab-df-convert:hover {\n",
              "      background-color: #E2EBFA;\n",
              "      box-shadow: 0px 1px 2px rgba(60, 64, 67, 0.3), 0px 1px 3px 1px rgba(60, 64, 67, 0.15);\n",
              "      fill: #174EA6;\n",
              "    }\n",
              "\n",
              "    [theme=dark] .colab-df-convert {\n",
              "      background-color: #3B4455;\n",
              "      fill: #D2E3FC;\n",
              "    }\n",
              "\n",
              "    [theme=dark] .colab-df-convert:hover {\n",
              "      background-color: #434B5C;\n",
              "      box-shadow: 0px 1px 3px 1px rgba(0, 0, 0, 0.15);\n",
              "      filter: drop-shadow(0px 1px 2px rgba(0, 0, 0, 0.3));\n",
              "      fill: #FFFFFF;\n",
              "    }\n",
              "  </style>\n",
              "\n",
              "      <script>\n",
              "        const buttonEl =\n",
              "          document.querySelector('#df-94baa021-d8d9-48a8-962a-514537d72eb9 button.colab-df-convert');\n",
              "        buttonEl.style.display =\n",
              "          google.colab.kernel.accessAllowed ? 'block' : 'none';\n",
              "\n",
              "        async function convertToInteractive(key) {\n",
              "          const element = document.querySelector('#df-94baa021-d8d9-48a8-962a-514537d72eb9');\n",
              "          const dataTable =\n",
              "            await google.colab.kernel.invokeFunction('convertToInteractive',\n",
              "                                                     [key], {});\n",
              "          if (!dataTable) return;\n",
              "\n",
              "          const docLinkHtml = 'Like what you see? Visit the ' +\n",
              "            '<a target=\"_blank\" href=https://colab.research.google.com/notebooks/data_table.ipynb>data table notebook</a>'\n",
              "            + ' to learn more about interactive tables.';\n",
              "          element.innerHTML = '';\n",
              "          dataTable['output_type'] = 'display_data';\n",
              "          await google.colab.output.renderOutput(dataTable, element);\n",
              "          const docLink = document.createElement('div');\n",
              "          docLink.innerHTML = docLinkHtml;\n",
              "          element.appendChild(docLink);\n",
              "        }\n",
              "      </script>\n",
              "    </div>\n",
              "  </div>\n",
              "  "
            ],
            "text/plain": [
              "   ID  num_3  num_4  num_1  \\\n",
              "0   1               -0.036001           -0.823512     -0.687687   \n",
              "1   2               -0.036001            1.626235      0.126056   \n",
              "2   3               -1.793255           -0.823512     -0.562495   \n",
              "3   4               -0.914628           -0.006929     -0.708552   \n",
              "4   5               -1.793255           -0.006929     -0.541630   \n",
              "\n",
              "   num_5  num_6  num_2  target_class  \\\n",
              "0        -0.341508          1.882562              -1.471565                1   \n",
              "1        -1.046135          2.806383              -0.338369                1   \n",
              "2         0.363119          2.128914              -0.163655                1   \n",
              "3         0.363119         -0.211433              -1.505775                1   \n",
              "4        -0.341508          2.005738              -0.707345                1   \n",
              "\n",
              "   Cat_1_d1  Cat_1_d2  Cat_1_d4  \\\n",
              "0                    1                     0                    0   \n",
              "1                    0                     1                    0   \n",
              "2                    0                     0                    0   \n",
              "3                    0                     0                    1   \n",
              "4                    0                     0                    0   \n",
              "\n",
              "   Cat_1_d5  Cat_1_d6  Cat_2_d1  \\\n",
              "0                    0                      0                      1   \n",
              "1                    0                      0                      1   \n",
              "2                    0                      1                      1   \n",
              "3                    0                      0                      1   \n",
              "4                    1                      0                      1   \n",
              "\n",
              "   Cat_2_d2  Cat_2_d3  Cat_3_d1  \\\n",
              "0                      0                     0                     1   \n",
              "1                      0                     0                     0   \n",
              "2                      0                     0                     0   \n",
              "3                      0                     0                     0   \n",
              "4                      0                     0                     1   \n",
              "\n",
              "   Cat_3_d2  \n",
              "0                     0  \n",
              "1                     1  \n",
              "2                     1  \n",
              "3                     1  \n",
              "4                     0  "
            ]
          },
          "execution_count": 42,
          "metadata": {},
          "output_type": "execute_result"
        }
      ],
      "source": [
        "my_training_data.head()"
      ]
    },
    {
      "cell_type": "code",
      "execution_count": 118,
      "metadata": {
        "execution": {
          "iopub.execute_input": "2022-11-06T14:53:49.758232Z",
          "iopub.status.busy": "2022-11-06T14:53:49.757819Z",
          "iopub.status.idle": "2022-11-06T14:53:49.764142Z",
          "shell.execute_reply": "2022-11-06T14:53:49.762744Z",
          "shell.execute_reply.started": "2022-11-06T14:53:49.758200Z"
        },
        "id": "nafjvpKWjmGk",
        "trusted": true
      },
      "outputs": [],
      "source": [
        "\n",
        "cv_split = model_selection.StratifiedShuffleSplit(n_splits = 5, test_size = .1, random_state = 0 ) "
      ]
    },
    {
      "cell_type": "code",
      "execution_count": 119,
      "metadata": {
        "id": "ndqT9Uvwlclt"
      },
      "outputs": [],
      "source": [
        "\n",
        "X = my_training_data[column_to_train]\n",
        "\n",
        "y = my_training_data[Target[0]]\n",
        "from sklearn.model_selection import train_test_split\n",
        "\n",
        "X_train, X_test, y_train, y_test = train_test_split(X, y, test_size = 0.1, random_state = 0,stratify=y)"
      ]
    },
    {
      "attachments": {},
      "cell_type": "markdown",
      "metadata": {},
      "source": [
        "## Test performance on all the models"
      ]
    },
    {
      "cell_type": "code",
      "execution_count": 45,
      "metadata": {
        "colab": {
          "base_uri": "https://localhost:8080/"
        },
        "id": "pAt6sCc4jaym",
        "outputId": "f1c0c708-3d33-429b-d0d9-707b130ac866"
      },
      "outputs": [
        {
          "name": "stdout",
          "output_type": "stream",
          "text": [
            "\n",
            " ada:\n",
            "test_score:  0.6831515151515151\n",
            "RealTest_score:  0.6812121212121212\n",
            "\n",
            " bc:\n",
            "test_score:  0.6688484848484848\n",
            "RealTest_score:  0.68\n",
            "\n",
            " etc:\n",
            "test_score:  0.6172121212121212\n",
            "RealTest_score:  0.6436363636363637\n",
            "\n",
            " gbc:\n",
            "test_score:  0.6860606060606059\n",
            "RealTest_score:  0.6787878787878788\n",
            "\n",
            " rfc:\n",
            "test_score:  0.6535757575757575\n",
            "RealTest_score:  0.6751515151515152\n",
            "\n",
            " svc:\n",
            "test_score:  0.6652121212121213\n",
            "RealTest_score:  0.6593939393939394\n"
          ]
        }
      ],
      "source": [
        "\n",
        "print(\"\\n ada:\")\n",
        "ada = ensemble.AdaBoostClassifier(learning_rate= 0.01,  n_estimators= 200,random_state=0)\n",
        "cv_results = model_selection.cross_validate(ada, my_training_data[column_to_train], my_training_data[Target[0]], cv  = cv_split,return_train_score=True)\n",
        "print('test_score: ',cv_results['test_score'].mean())\n",
        "ada.fit(X_train, y_train)\n",
        "score = ada.score(X_test, y_test)\n",
        "print('RealTest_score: ',score)\n",
        "\n",
        "print(\"\\n bc:\")\n",
        "bc = ensemble.BaggingClassifier(max_samples= 0.01,n_estimators= 100,random_state=0)\n",
        "cv_results = model_selection.cross_validate(bc, my_training_data[column_to_train], my_training_data[Target[0]], cv  = cv_split,return_train_score=True)\n",
        "print('test_score: ',cv_results['test_score'].mean())\n",
        "bc.fit(X_train, y_train)\n",
        "score = bc.score(X_test, y_test)\n",
        "print('RealTest_score: ',score)\n",
        "\n",
        "print(\"\\n etc:\")\n",
        "etc = ensemble.ExtraTreesClassifier(criterion= 'entropy', max_depth= 7, n_estimators= 300,random_state=0)\n",
        "cv_results = model_selection.cross_validate(etc, my_training_data[column_to_train], my_training_data[Target[0]], cv  = cv_split,return_train_score=True)\n",
        "print('test_score: ',cv_results['test_score'].mean())\n",
        "etc.fit(X_train, y_train)\n",
        "score = etc.score(X_test, y_test)\n",
        "print('RealTest_score: ',score)\n",
        "\n",
        "print(\"\\n gbc:\")\n",
        "gbc = ensemble.GradientBoostingClassifier(learning_rate= 0.03, max_depth= 2, n_estimators= 200,random_state=0)\n",
        "cv_results = model_selection.cross_validate(gbc, my_training_data[column_to_train], my_training_data[Target[0]], cv  = cv_split,return_train_score=True)\n",
        "print('test_score: ',cv_results['test_score'].mean())\n",
        "gbc.fit(X_train, y_train)\n",
        "score = gbc.score(X_test, y_test)\n",
        "print('RealTest_score: ',score)\n",
        "\n",
        "print(\"\\n rfc:\")\n",
        "rfc = ensemble.RandomForestClassifier(bootstrap=True,criterion= 'entropy', max_depth= 4,max_features=3,min_samples_leaf=2,min_samples_split=12, n_estimators= 50,oob_score=True)\n",
        "cv_results = model_selection.cross_validate(rfc, my_training_data[column_to_train], my_training_data[Target[0]], cv  = cv_split,return_train_score=True)\n",
        "print('test_score: ',cv_results['test_score'].mean())\n",
        "rfc.fit(X_train, y_train)\n",
        "score = rfc.score(X_test, y_test)\n",
        "print('RealTest_score: ',score)\n",
        "\n",
        "print(\"\\n svc:\")\n",
        "svc = svm.SVC(C= 1, decision_function_shape= 'ovo', gamma= 0.1,probability=True)\n",
        "cv_results = model_selection.cross_validate(svc, my_training_data[column_to_train], my_training_data[Target[0]], cv  = cv_split,return_train_score=True)\n",
        "print('test_score: ',cv_results['test_score'].mean())\n",
        "svc.fit(X_train, y_train)\n",
        "score = svc.score(X_test, y_test)\n",
        "print('RealTest_score: ',score)"
      ]
    },
    {
      "cell_type": "code",
      "execution_count": 18,
      "metadata": {
        "colab": {
          "base_uri": "https://localhost:8080/"
        },
        "id": "dD5Rb1zqfKmQ",
        "outputId": "238561d1-7ebf-41fb-df54-cac0e63c47bc"
      },
      "outputs": [
        {
          "name": "stdout",
          "output_type": "stream",
          "text": [
            "test_score:  0.6696969696969697\n",
            "RealTest_score:  0.6636363636363637\n"
          ]
        }
      ],
      "source": [
        "\n",
        "from sklearn.neural_network import MLPClassifier\n",
        "mlp =  MLPClassifier(random_state=42,max_iter=1000,activation='logistic',hidden_layer_sizes= (100,))\n",
        "cv_results = model_selection.cross_validate(mlp, my_training_data[column_to_train], my_training_data[Target[0]], cv  = cv_split,return_train_score=True)\n",
        "print('test_score: ',cv_results['test_score'].mean())\n",
        "mlp.fit(X_train, y_train)\n",
        "score = mlp.score(X_test, y_test)\n",
        "print('RealTest_score: ',score)"
      ]
    },
    {
      "cell_type": "code",
      "execution_count": 259,
      "metadata": {
        "colab": {
          "base_uri": "https://localhost:8080/"
        },
        "id": "O-bcs5miD1Gl",
        "outputId": "fe9dd33f-2c76-491b-cd54-e782d2c8a539"
      },
      "outputs": [
        {
          "name": "stdout",
          "output_type": "stream",
          "text": [
            "test_score:  0.6846060606060606\n",
            "RealTest_score:  0.6824242424242424\n"
          ]
        }
      ],
      "source": [
        "\n",
        "import xgboost as xgb\n",
        "clf_xgb=xgb.XGBClassifier(learning_rate=0.01,gamma=5,n_estimators=50,reg_alpha=0,reg_lambda  =0.9,subsample =0.8)\n",
        "cv_results = model_selection.cross_validate(clf_xgb, my_training_data[column_to_train], my_training_data[Target[0]], cv  = cv_split,return_train_score=True)\n",
        "print('test_score: ',cv_results['test_score'].mean())\n",
        "clf_xgb.fit(X_train, y_train)\n",
        "score = clf_xgb.score(X_test, y_test)\n",
        "print('RealTest_score: ',score)"
      ]
    },
    {
      "attachments": {},
      "cell_type": "markdown",
      "metadata": {},
      "source": [
        "### Voting classifier tuning"
      ]
    },
    {
      "cell_type": "code",
      "execution_count": 63,
      "metadata": {
        "colab": {
          "base_uri": "https://localhost:8080/"
        },
        "id": "U6TGYt0W95PT",
        "outputId": "57b0c9c6-1f4a-49a3-e90c-e17c84f4b7be"
      },
      "outputs": [
        {
          "data": {
            "text/plain": [
              "0.6824242424242424"
            ]
          },
          "execution_count": 63,
          "metadata": {},
          "output_type": "execute_result"
        }
      ],
      "source": [
        "\n",
        "from sklearn.ensemble import VotingClassifier\n",
        "named_estimators = [ (\"ada\",ada),(\"bc\", bc), (\"gbc?\", gbc), (\"rfc\", rfc), (\"svc\", svc),(\"mlp\",mlp)]\n",
        "voting_clf = VotingClassifier(named_estimators)\n",
        "voting_clf.fit(X_train, y_train)\n",
        "voting_clf.score(X_test, y_test)"
      ]
    },
    {
      "cell_type": "code",
      "execution_count": 33,
      "metadata": {
        "colab": {
          "base_uri": "https://localhost:8080/"
        },
        "id": "p-A-qJn_dYpL",
        "outputId": "f6bd5ff0-1f08-45e9-8332-69993b6da3a9"
      },
      "outputs": [
        {
          "data": {
            "text/plain": [
              "0.6909090909090909"
            ]
          },
          "execution_count": 33,
          "metadata": {},
          "output_type": "execute_result"
        }
      ],
      "source": [
        "voting_clf.fit(X,y)\n",
        "voting_clf.score(X_test, y_test)"
      ]
    },
    {
      "cell_type": "code",
      "execution_count": 21,
      "metadata": {
        "id": "F_i6xxKJ95HD"
      },
      "outputs": [],
      "source": [
        "\n",
        "# voting_clf.fit(X,y)\n",
        "results = pd.DataFrame(data=[],columns=['ID','target_class'])\n",
        "results['ID']=test_id\n",
        "results['target_class'] =voting_clf.predict(my_testing_data[column_to_train])\n",
        "results.to_csv(voting_clf.__class__.__name__+'score_'+str(0.6836363636363636_2)+'_tuned_ada_bc_gbc_rtc_svc_mlp.csv',index=False)"
      ]
    },
    {
      "cell_type": "code",
      "execution_count": 134,
      "metadata": {
        "id": "Cij0NHxBsBW1"
      },
      "outputs": [],
      "source": [
        "results = pd.DataFrame(data=[],columns=['ID','target_class'])\n",
        "results['ID']=test_id\n",
        "results['target_class'] =gbc.predict(my_testing_data[column_to_train])\n",
        "results.to_csv(gbc.__class__.__name__+'score_'+str(0.6836363636363636)+'_tuned_gbc.csv',index=False)"
      ]
    },
    {
      "cell_type": "markdown",
      "metadata": {},
      "source": [
        "## Grid Search"
      ]
    },
    {
      "cell_type": "code",
      "execution_count": 16,
      "metadata": {
        "colab": {
          "base_uri": "https://localhost:8080/"
        },
        "id": "vv9ACOz-sPK0",
        "outputId": "9d3628c4-6ebd-402d-c05d-79585128c3bc"
      },
      "outputs": [
        {
          "name": "stdout",
          "output_type": "stream",
          "text": [
            "Fitting 3 folds for each of 864 candidates, totalling 2592 fits\n"
          ]
        },
        {
          "data": {
            "text/plain": [
              "(0.5800500016534939,\n",
              " {'bootstrap': True,\n",
              "  'criterion': 'entropy',\n",
              "  'max_depth': 30,\n",
              "  'max_features': 6,\n",
              "  'min_samples_leaf': 2,\n",
              "  'min_samples_split': 4,\n",
              "  'n_estimators': 50})"
            ]
          },
          "execution_count": 16,
          "metadata": {},
          "output_type": "execute_result"
        }
      ],
      "source": [
        "\n",
        "\n",
        "param_grid = {\n",
        "    'bootstrap': [True],\n",
        "    'max_depth': [15,20,30],\n",
        "    'max_features': [ 3,4,5,6],\n",
        "    'min_samples_leaf': [2,3, 4],\n",
        "    'min_samples_split': [4,5,6,7],\n",
        "    'n_estimators': [50,100,150],\n",
        "    'criterion' :[ 'entropy', 'gini']\n",
        "}\n",
        "\n",
        "# Create a based model\n",
        "rf = ensemble.ExtraTreesClassifier()\n",
        "# Instantiate the grid search model\n",
        "grid_search = model_selection.GridSearchCV(estimator = rf, param_grid = param_grid, \n",
        "                          cv = 3, n_jobs = -1, verbose = 2)\n",
        "\n",
        "# Fit the grid search to the data\n",
        "grid_search.fit(X,y)\n",
        "grid_search.best_score_ ,grid_search.best_params_"
      ]
    },
    {
      "cell_type": "markdown",
      "metadata": {},
      "source": [
        "### use best param to check the score"
      ]
    },
    {
      "cell_type": "code",
      "execution_count": 18,
      "metadata": {
        "colab": {
          "base_uri": "https://localhost:8080/"
        },
        "id": "8_6uq6CG9kqt",
        "outputId": "6f2a28e2-085c-44cc-af4c-6f7d52d79474"
      },
      "outputs": [
        {
          "name": "stdout",
          "output_type": "stream",
          "text": [
            "grid_search_std: 37.53328576919699\n",
            "grid_search_best_score: 0.5800500016534939\n",
            "fitted_test_score 0.658989898989899\n"
          ]
        }
      ],
      "source": [
        "rf.set_params(**grid_search.best_params_) \n",
        "rf.fit(X_train,y_train)\n",
        "clf_score = rf.score(X_test, y_test)\n",
        "\n",
        "print('grid_search_std:',grid_search.cv_results_['std_test_score'][grid_search.best_index_]*100*3)  \n",
        "print('grid_search_best_score:',grid_search.best_score_)\n",
        "print('fitted_test_score',clf_score)"
      ]
    },
    {
      "cell_type": "code",
      "execution_count": 14,
      "metadata": {
        "colab": {
          "base_uri": "https://localhost:8080/"
        },
        "id": "eaUjRZAktN2o",
        "outputId": "c50e31ac-645a-43d0-ad71-be38b8d69588"
      },
      "outputs": [
        {
          "name": "stdout",
          "output_type": "stream",
          "text": [
            "grid_search_std: 29.824640656735674\n",
            "grid_search_best_score: 0.5514440292337709\n",
            "fitted_test_score 0.6505050505050505\n"
          ]
        }
      ],
      "source": [
        "rf.set_params(**grid_search.best_params_) \n",
        "rf.fit(X_train,y_train)\n",
        "clf_score = rf.score(X_test, y_test)\n",
        "\n",
        "print('grid_search_std:',grid_search.cv_results_['std_test_score'][grid_search.best_index_]*100*3)  \n",
        "print('grid_search_best_score:',grid_search.best_score_)\n",
        "print('fitted_test_score',clf_score)"
      ]
    },
    {
      "cell_type": "markdown",
      "metadata": {},
      "source": [
        "### Save the prediction on test data"
      ]
    },
    {
      "cell_type": "code",
      "execution_count": null,
      "metadata": {
        "id": "-feAvnTZt0v2"
      },
      "outputs": [],
      "source": [
        "rf.fit(X,y)\n",
        "results = pd.DataFrame(data=[],columns=['ID','target_class'])\n",
        "results['ID']=test_id\n",
        "results['target_class'] =rf.predict(my_testing_data[column_to_train])\n",
        "results.to_csv(rf.__class__.__name__+'score_'+str(clf_score)+'_tuned.csv',index=False)"
      ]
    },
    {
      "cell_type": "markdown",
      "metadata": {},
      "source": [
        "## Random search"
      ]
    },
    {
      "cell_type": "code",
      "execution_count": null,
      "metadata": {
        "colab": {
          "base_uri": "https://localhost:8080/"
        },
        "id": "UDwODB2wlO0w",
        "outputId": "bb0dce92-c69a-4dc8-ba44-bee3018155ef"
      },
      "outputs": [
        {
          "name": "stdout",
          "output_type": "stream",
          "text": [
            "{'n_estimators': [100, 300, 500, 700, 900, 1100, 1300, 1500, 1700, 1900], 'max_features': ['d1', 'sqrt', 2, 3, 4, 5], 'max_depth': [2, 29, 56, 83, 110, None], 'min_samples_split': [2, 5, 10], 'min_samples_leaf': [1, 2, 4], 'bootstrap': [True, False]}\n"
          ]
        }
      ],
      "source": [
        "from sklearn.model_selection import RandomizedSearchCV\n",
        "\n",
        "\n",
        "n_estimators = [int(x) for x in range(100,2000,200)]\n",
        "\n",
        "max_features = ['d1', 'sqrt',2,3,4,5]\n",
        "\n",
        "max_depth = [int(x) for x in np.linspace(2, 110, num = 5)]\n",
        "max_depth.append(None)\n",
        "\n",
        "min_samples_split = [2, 5, 10]\n",
        "\n",
        "min_samples_leaf = [1, 2, 4]\n",
        "\n",
        "bootstrap = [True, False]\n",
        "\n",
        "random_grid = {'n_estimators': n_estimators,\n",
        "               'max_features': max_features,\n",
        "               'max_depth': max_depth,\n",
        "               'min_samples_split': min_samples_split,\n",
        "               'min_samples_leaf': min_samples_leaf,\n",
        "               'bootstrap': bootstrap}\n",
        "print(random_grid)"
      ]
    },
    {
      "cell_type": "code",
      "execution_count": null,
      "metadata": {
        "colab": {
          "base_uri": "https://localhost:8080/"
        },
        "id": "JKGjWbV2lRpY",
        "outputId": "1be20d56-e080-4a6f-bbe9-4d53bb2f39e8"
      },
      "outputs": [
        {
          "name": "stdout",
          "output_type": "stream",
          "text": [
            "Fitting 3 folds for each of 100 candidates, totalling 300 fits\n"
          ]
        },
        {
          "name": "stderr",
          "output_type": "stream",
          "text": [
            "/usr/local/lib/python3.7/dist-packages/joblib/externals/loky/process_executor.py:703: UserWarning: A worker stopped while some jobs were given to the executor. This can be caused by a too short worker timeout or by a memory leak.\n",
            "  \"timeout or by a memory leak.\", UserWarning\n"
          ]
        },
        {
          "data": {
            "text/plain": [
              "RandomizedSearchCV(cv=3, estimator=RandomForestClassifier(), n_iter=100,\n",
              "                   n_jobs=-1,\n",
              "                   param_distributions={'bootstrap': [True, False],\n",
              "                                        'max_depth': [2, 29, 56, 83, 110, None],\n",
              "                                        'max_features': ['d1', 'sqrt', 2, 3,\n",
              "                                                         4, 5],\n",
              "                                        'min_samples_leaf': [1, 2, 4],\n",
              "                                        'min_samples_split': [2, 5, 10],\n",
              "                                        'n_estimators': [100, 300, 500, 700,\n",
              "                                                         900, 1100, 1300, 1500,\n",
              "                                                         1700, 1900]},\n",
              "                   random_state=42, verbose=2)"
            ]
          },
          "execution_count": 16,
          "metadata": {},
          "output_type": "execute_result"
        }
      ],
      "source": [
        "\n",
        "rf = ensemble.RandomForestClassifier()\n",
        "\n",
        "rf_random = RandomizedSearchCV(estimator = rf, param_distributions = random_grid, n_iter = 100, cv = 3, verbose=2, random_state=42, n_jobs = -1)\n",
        "\n",
        "rf_random.fit(X_train, y_train)"
      ]
    },
    {
      "cell_type": "code",
      "execution_count": null,
      "metadata": {
        "colab": {
          "base_uri": "https://localhost:8080/"
        },
        "id": "5PN6ery2pruD",
        "outputId": "7e1426fe-4d93-4c17-ce3b-db8addcd78de"
      },
      "outputs": [
        {
          "data": {
            "text/plain": [
              "{'n_estimators': 1300,\n",
              " 'min_samples_split': 10,\n",
              " 'min_samples_leaf': 1,\n",
              " 'max_features': 5,\n",
              " 'max_depth': 2,\n",
              " 'bootstrap': True}"
            ]
          },
          "execution_count": 17,
          "metadata": {},
          "output_type": "execute_result"
        }
      ],
      "source": [
        "rf_random.best_params_"
      ]
    },
    {
      "cell_type": "markdown",
      "metadata": {},
      "source": [
        "## Grid seach on all the models"
      ]
    },
    {
      "cell_type": "code",
      "execution_count": null,
      "metadata": {
        "execution": {
          "iopub.execute_input": "2022-11-06T14:54:14.887301Z",
          "iopub.status.busy": "2022-11-06T14:54:14.886897Z",
          "iopub.status.idle": "2022-11-06T14:54:14.893911Z",
          "shell.execute_reply": "2022-11-06T14:54:14.892559Z",
          "shell.execute_reply.started": "2022-11-06T14:54:14.887264Z"
        },
        "id": "j5iicg3zjmGk",
        "trusted": true
      },
      "outputs": [],
      "source": [
        "vote_est = [\n",
        "    ('ada', ensemble.AdaBoostClassifier()),\n",
        "    ('bc', ensemble.BaggingClassifier()),\n",
        "    ('etc',ensemble.ExtraTreesClassifier()),\n",
        "    ('gbc', ensemble.GradientBoostingClassifier()),\n",
        "    ('rfc', ensemble.RandomForestClassifier()),\n",
        "    ('gpc', gaussian_process.GaussianProcessClassifier()),\n",
        "    ('lr', linear_model.LogisticRegressionCV()),\n",
        "    ('knn', neighbors.KNeighborsClassifier()),\n",
        "    ('svc', svm.SVC(probability=True)),\n",
        "   ('xgb', XGBClassifier())\n",
        "\n",
        "]\n"
      ]
    },
    {
      "cell_type": "code",
      "execution_count": null,
      "metadata": {},
      "outputs": [],
      "source": [
        "\n",
        "grid_n_estimator = [10, 50, 100, 300,400,500]\n",
        "grid_ratio = [.1, .25, .5, .75, 1.0]\n",
        "grid_learn = [.01, .03, .05, .1, .25]\n",
        "grid_max_depth = [2, 4, 6, 8, 10, 50,80,100]\n",
        "grid_min_samples = [5, 10, .03, .05, .10]\n",
        "grid_criterion = ['gini', 'entropy']\n",
        "grid_bool = [True, False]\n",
        "grid_seed = [0]\n",
        "\n",
        "\n",
        "grid_param = [\n",
        "            [{\n",
        "            'n_estimators': grid_n_estimator, \n",
        "            'learning_rate': grid_learn, \n",
        "            'random_state': grid_seed\n",
        "            }],\n",
        "    \n",
        "            [{\n",
        "            'n_estimators': grid_n_estimator, \n",
        "            'max_samples': grid_ratio,\n",
        "             }],\n",
        "    \n",
        "            [{\n",
        "            'n_estimators': grid_n_estimator, \n",
        "            'criterion': grid_criterion, \n",
        "            'max_depth': grid_max_depth, \n",
        "             }],\n",
        "\n",
        "            [{\n",
        "            'learning_rate': [0.01,0.02,0.03,0.05,0.1], \n",
        "            'n_estimators': [10,50,100,300,400], \n",
        "            'max_depth': grid_max_depth, \n",
        "             }],\n",
        "\n",
        "            [{\n",
        "      \n",
        "            'n_estimators': grid_n_estimator, \n",
        "            'criterion': grid_criterion,\n",
        "            'max_depth': grid_max_depth, \n",
        "            'max_features': [2, 3,4,5],\n",
        "            'min_samples_leaf': [3, 4, 5],\n",
        "            'min_samples_split': [8, 10, 12],\n",
        "            'bootstrap': [True],\n",
        "            'oob_score': [True], \n",
        "             }\n",
        "            ], \n",
        "    \n",
        "            [{    \n",
        "            'max_iter_predict': grid_n_estimator,\n",
        "            'random_state': grid_seed\n",
        "            }],\n",
        "        \n",
        "\n",
        "            [{\n",
        "            'fit_intercept': grid_bool, \n",
        "            'penalty': ['l1','l2'],\n",
        "            'solver': [ 'liblinear',  'saga'], \n",
        "            'random_state': grid_seed,\n",
        "            'max_iter':[5000]\n",
        "             },\n",
        "            {\n",
        "            'fit_intercept': grid_bool, \n",
        "            'penalty': ['l2'],\n",
        "            'solver': [ 'lbfgs','newton-cg','sag'],\n",
        "            'random_state': grid_seed,\n",
        "            'max_iter':[5000]\n",
        "             }],\n",
        "            \n",
        "            [{\n",
        "            'n_neighbors': [1,2,3,4,5,6,7],\n",
        "            'weights': ['uniform', 'distance'],\n",
        "            'algorithm': ['d1', 'ball_tree', 'kd_tree', 'brute']\n",
        "            }],\n",
        "            \n",
        "    \n",
        "            [{\n",
        "            'C': [1,2,3,4,5], \n",
        "            'gamma': grid_ratio, \n",
        "            'decision_function_shape': ['ovo', 'ovr'],\n",
        "            'probability': [True],\n",
        "            'random_state': grid_seed\n",
        "             }],\n",
        "\n",
        "    \n",
        "            [{\n",
        "            'learning_rate': grid_learn, \n",
        "            'max_depth': [1,2,4,6,8,10],\n",
        "            'n_estimators': grid_n_estimator, \n",
        "             }]   \n",
        "        ]\n"
      ]
    },
    {
      "cell_type": "code",
      "execution_count": null,
      "metadata": {
        "execution": {
          "iopub.execute_input": "2022-11-06T14:54:22.123708Z",
          "iopub.status.busy": "2022-11-06T14:54:22.123253Z",
          "iopub.status.idle": "2022-11-06T15:18:16.840281Z",
          "shell.execute_reply": "2022-11-06T15:18:16.838999Z",
          "shell.execute_reply.started": "2022-11-06T14:54:22.123670Z"
        },
        "id": "mTy3UXNNjmGl",
        "trusted": true
      },
      "outputs": [],
      "source": [
        "\n",
        "\n",
        "all_models_results_col = [ 'Search Parameters', 'Search score', 'Search score 3*STD' ,'Time(s)','Clf_Score']\n",
        "all_models_results = pd.DataFrame(data=[],columns = all_models_results_col,index=[clf[1].__class__.__name__ for clf in vote_est])\n",
        "start_total = time.perf_counter() \n",
        "for clf, param in zip (vote_est, grid_param): \n",
        "  \n",
        "    \n",
        "    start = time.perf_counter()        \n",
        "    best_search = model_selection.GridSearchCV(estimator = clf[1], param_grid = param, cv = cv_split, scoring = 'roc_auc')\n",
        "    best_search.fit(X_train, y_train)\n",
        "    run = time.perf_counter() - start\n",
        "\n",
        "    best_param = best_search.best_params_\n",
        "    clf[1].set_params(**best_param) \n",
        "    clf[1].fit(X_train,y_train)\n",
        "    clf_score = clf[1].score(x_test, y_test)\n",
        "\n",
        "\n",
        "    clf[1].fit(X,y)\n",
        "    results = pd.DataFrame(data=[],columns=['ID','target_class'])\n",
        "    results['ID']=test_id\n",
        "    results['target_class'] =clf[1].predict(my_testing_data[column_to_train])\n",
        "    results.to_csv(clf[1].__class__.__name__+'score_'+str(clf_score)+'_tuned.csv',index=False)\n",
        "    \n",
        "  \n",
        "\n",
        "    all_models_results.loc[clf[1].__class__.__name__]['Search Parameters']=best_search.best_params_\n",
        "    all_models_results.loc[clf[1].__class__.__name__]['Search score']=best_search.best_score_\n",
        "    all_models_results.loc[clf[1].__class__.__name__]['Search score 3*STD']=best_search.cv_results_['std_test_score'][best_search.best_index_]*100*3\n",
        "    all_models_results.loc[clf[1].__class__.__name__]['Time(s)']=run\n",
        "    all_models_results.loc[clf[1].__class__.__name__]['Clf_Score']=clf_score\n",
        "    \n",
        "    print('The best parameter for {} is {} with a search score of {:.2f} clf score of {:.2f} and runtime of {:.2f} seconds.'.format(clf[1].__class__.__name__, best_param,best_search.best_score_,clf_score, run))\n",
        "\n",
        "run_total = time.perf_counter() - start_total\n",
        "print('Total optimization time was {:.2f} minutes.'.format(run_total/60))\n",
        "\n",
        "print('-'*10)\n",
        "all_models_results.sort_values(by = ['Search score'], ascending = False, inplace = True)\n",
        "all_models_results"
      ]
    }
  ],
  "metadata": {
    "colab": {
      "collapsed_sections": [],
      "provenance": []
    },
    "kernelspec": {
      "display_name": "Python 3.10.4 64-bit",
      "language": "python",
      "name": "python3"
    },
    "language_info": {
      "codemirror_mode": {
        "name": "ipython",
        "version": 3
      },
      "file_extension": ".py",
      "mimetype": "text/x-python",
      "name": "python",
      "nbconvert_exporter": "python",
      "pygments_lexer": "ipython3",
      "version": "3.10.4"
    },
    "vscode": {
      "interpreter": {
        "hash": "916dbcbb3f70747c44a77c7bcd40155683ae19c65e1c03b4aa3499c5328201f1"
      }
    }
  },
  "nbformat": 4,
  "nbformat_minor": 0
}
