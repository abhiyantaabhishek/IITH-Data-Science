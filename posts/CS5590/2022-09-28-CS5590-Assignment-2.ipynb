{
 "cells": [
  {
   "cell_type": "raw",
   "metadata": {},
   "source": [
    "---\n",
    "aliases:\n",
    "- /Quizzes and assignments - Foundations of Machine Learning/2022/09/28/CS5590-Assignment-2\n",
    "author: Abhishek Kumar Dubey\n",
    "badges: false\n",
    "categories:\n",
    "- Quizzes and assignments - Foundations of Machine Learning\n",
    "date: '2022-09-28'\n",
    "description: Foundations of Machine Learning CS5590  Assignment 2\n",
    "output-file: 2022-09-28-cs5590-assignment-2.html\n",
    "title: FoML CS5590 Assignment 2\n",
    "toc: true\n",
    "\n",
    "---\n",
    "\n"
   ]
  },
  {
   "cell_type": "markdown",
   "metadata": {},
   "source": [
    "# Answer of Q.1."
   ]
  },
  {
   "cell_type": "markdown",
   "metadata": {},
   "source": [
    "- Given $\\displaystyle \\rho =\\frac{1}{\\|W\\|}$ and $\\displaystyle\\frac{1}{\\rho^2 }=\\sum_{i=1}^N \\alpha_i$ <br><br>\n",
    "  so we get $\\displaystyle  \\|W{\\|}^2 =\\sum_{i=1}^N \\alpha_i$ <br><br>\n",
    "  Multiply by $y$ both side ,  <br><br>\n",
    "  $\\displaystyle  Y^T \\|W{\\|}^2 =\\sum_{i=1}^N \\alpha_i y_i$ <br><br>\n",
    "  we know that SVM Dula proble is geven as below :<br><br>\n",
    "\n",
    "  $\\displaystyle\\max_{\\overrightarrow{\\alpha } \\ge 0 } \\min_{\\overrightarrow{w},b }\\frac{1}{2}\\left\\lVert \\overrightarrow{w} \\right\\rVert^2 + \\sum_{i = 1}^{n}\\alpha_i\\left( 1-y_i\\left( \\overrightarrow{w}\\cdot\\overrightarrow{x_i}+b   \\right) \\right)$<br><br>\n",
    "  after taking derivative wrt $b$ we get  <br><br>\n",
    "\n",
    "  we can see that  $\\displaystyle \\sum_{i=1}^N \\alpha_i y_i =0$<br><br>\n",
    "  So our equation $Y^T \\|W{\\|}^2 =\\sum_{i=1}^N \\alpha_i y_i$  can now be written as below :<br><br> \n",
    "  $\\displaystyle Y^T \\|W{\\|}^2 =0$ <br><br>\n",
    "  Now we just need to prove that $Y^T \\|W{\\|}^2 =0$ which is equivalent to  $\\frac{1}{\\rho^2 }=\\sum_{i=1}^N \\alpha_i$<br><br>\n",
    "  $\\displaystyle {Y^T \\cdot \\|W{\\|}^2 =\\;\\left(W^T X+b\\right)}^T \\sqrt{\\left(W^T W\\right)^2 }$<br><br>\n",
    "  $\\displaystyle Y^T \\cdot \\|W{\\|}^2 ={\\left(W^T X+b\\right)}^T \\cdot W^T W$<br><br>\n",
    "  Since $W$ is orthogonal   to the margin line so the above dot product becomes zero <br>\n",
    "  $\\displaystyle {Y^T \\|W{\\|}^2 =\\left(W^T X+b\\right)}^T W^T W=0$ <br><br>\n",
    "  Hence proved  : <br><br>\n",
    "  $\\displaystyle \\frac{1}{\\rho^2 }=\\sum_{i=1}^N \\alpha_i$ "
   ]
  },
  {
   "cell_type": "markdown",
   "metadata": {},
   "source": [
    "# Answer of Q.2."
   ]
  },
  {
   "cell_type": "code",
   "execution_count": 1,
   "metadata": {},
   "outputs": [
    {
     "data": {
      "text/plain": [
       "[<matplotlib.lines.Line2D at 0x7ff920065b80>]"
      ]
     },
     "execution_count": 1,
     "metadata": {},
     "output_type": "execute_result"
    },
    {
     "data": {
      "image/png": "[encoded data removed]",
      "text/plain": [
       "<Figure size 864x288 with 3 Axes>"
      ]
     },
     "metadata": {
      "needs_background": "light"
     },
     "output_type": "display_data"
    }
   ],
   "source": [
    "import matplotlib.pyplot as plt\n",
    "import numpy as np\n",
    "dataAp=np.array([[-2,-2],[-2,0],[-2,2],[0,2]])\n",
    "dataAn=np.array([[2,2],[2,0],[2,-2],[0,-2]])\n",
    "fig,ax = plt.subplots(nrows=1,ncols=3,figsize=(12,4))\n",
    "ax[0].grid('on')\n",
    "ax[0].scatter(dataAp[:,0],dataAp[:,1],s=80,marker ='o',color ='k')\n",
    "ax[0].scatter(dataAn[:,0],dataAn[:,1],s=80,facecolors='none',edgecolors='k')\n",
    "ax[0].set_xlim([-2.5, 2.5])\n",
    "ax[0].set_ylim([-2.5, 2.5])\n",
    "\n",
    "\n",
    "dataBp=np.array([[2,-2],[0,-2],[-2,-2]])\n",
    "dataBn=np.array([[-2,0],[-2,2],[0,2],[2,2],[2,0]])\n",
    "ax[1].grid('on')\n",
    "ax[1].scatter(dataBp[:,0],dataBp[:,1],s=80,marker ='o',color ='k')\n",
    "ax[1].scatter(dataBn[:,0],dataBn[:,1],s=80,facecolors='none',edgecolors='k')\n",
    "ax[1].set_xlim([-2.5, 2.5])\n",
    "ax[1].set_ylim([-2.5, 2.5])\n",
    "\n",
    "dataCp=np.array([[-2,2]])\n",
    "dataCn=np.array([[-2,0],[0,2],[2,2],[2,0],[2,-2],[0,-2],[-2,-2]])\n",
    "ax[2].grid('on')\n",
    "ax[2].scatter(dataCp[:,0],dataCp[:,1],s=80,marker ='o',color ='k')\n",
    "ax[2].scatter(dataCn[:,0],dataCn[:,1],s=80,facecolors='none',edgecolors='k')\n",
    "ax[2].set_xlim([-2.5, 2.5])\n",
    "ax[2].set_ylim([-2.5, 2.5])\n",
    "\n",
    "w = 1.5\n",
    "b= 0\n",
    "x = np.arange(-10,10,0.1)\n",
    "y = w*x+b\n",
    "ax[0].plot(x,y)"
   ]
  },
  {
   "cell_type": "code",
   "execution_count": 52,
   "metadata": {},
   "outputs": [
    {
     "data": {
      "text/plain": [
       "array([-6., -3.,  0.,  3.])"
      ]
     },
     "execution_count": 52,
     "metadata": {},
     "output_type": "execute_result"
    }
   ],
   "source": [
    "w*dataAp[:,0] + w*dataAp[:,1] +b"
   ]
  },
  {
   "cell_type": "code",
   "execution_count": 28,
   "metadata": {},
   "outputs": [
    {
     "data": {
      "text/plain": [
       "array([[-2, -2],\n",
       "       [-2,  0],\n",
       "       [-2,  2],\n",
       "       [ 0,  2]])"
      ]
     },
     "execution_count": 28,
     "metadata": {},
     "output_type": "execute_result"
    }
   ],
   "source": [
    "dataAp"
   ]
  },
  {
   "cell_type": "code",
   "execution_count": 53,
   "metadata": {},
   "outputs": [
    {
     "data": {
      "text/plain": [
       "array([ 6.,  3.,  0., -3.])"
      ]
     },
     "execution_count": 53,
     "metadata": {},
     "output_type": "execute_result"
    }
   ],
   "source": [
    "w*dataAn[:,0] + w*dataAn[:,1] +b"
   ]
  },
  {
   "cell_type": "code",
   "execution_count": 29,
   "metadata": {},
   "outputs": [
    {
     "data": {
      "text/plain": [
       "array([[ 2,  2],\n",
       "       [ 2,  0],\n",
       "       [ 2, -2],\n",
       "       [ 0, -2]])"
      ]
     },
     "execution_count": 29,
     "metadata": {},
     "output_type": "execute_result"
    }
   ],
   "source": [
    "dataAn"
   ]
  }
 ],
 "metadata": {
  "kernelspec": {
   "display_name": "Python 3.9.12 ('base')",
   "language": "python",
   "name": "python3"
  },
  "language_info": {
   "codemirror_mode": {
    "name": "ipython",
    "version": 3
   },
   "file_extension": ".py",
   "mimetype": "text/x-python",
   "name": "python",
   "nbconvert_exporter": "python",
   "pygments_lexer": "ipython3",
   "version": "3.9.12"
  },
  "orig_nbformat": 4,
  "vscode": {
   "interpreter": {
    "hash": "b92a85dd111e7f234cbdfd9e3dc75ce12717f6161daa18a82d26f0e8e840c205"
   }
  }
 },
 "nbformat": 4,
 "nbformat_minor": 2
}
